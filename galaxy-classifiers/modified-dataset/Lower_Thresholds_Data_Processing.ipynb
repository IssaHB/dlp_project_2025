{
  "nbformat": 4,
  "nbformat_minor": 0,
  "metadata": {
    "colab": {
      "provenance": [],
      "machine_shape": "hm",
      "gpuType": "A100"
    },
    "kernelspec": {
      "name": "python3",
      "display_name": "Python 3"
    },
    "language_info": {
      "name": "python"
    },
    "accelerator": "GPU"
  },
  "cells": [
    {
      "cell_type": "markdown",
      "source": [
        "# Data Processing for Altered Dataset (Lower Thresholds)"
      ],
      "metadata": {
        "id": "Loz-0BCn0-Iw"
      }
    },
    {
      "cell_type": "markdown",
      "source": [
        "In this notebook, we reproduce the dataset used in the paper Ghaderi et al. (2025), using different thresholds (see section 2 of the report). The purpose of this notebook is to organise the dataset. The dataset is Galaxy Zoo 2 [Hart et al. (2016), Willett et al. (2013)]. We do this only for galaxies (no stars and no artifacts). We use the following thresholds, as explained in section 2 of the report:\n",
        "\n",
        "Whether the object is a galaxy or not:\n",
        "+ t01_smooth_or_features_a03_star_or_artifact_fraction < 0.5\n",
        "\n",
        "Whether the object presents the characteristics of a spiral galaxy:\n",
        "\n",
        "+ 0.90 <= t01_smooth_or_features_a02_features_or_disk_fraction <= 0.95\n",
        "+ 0.90 <= t02_edgeon_a05_no_fraction <= 0.95\n",
        "+ 0.90 <= t04_spiral_a08_spiral_fraction <= 0.95\n",
        "\n",
        "Whether the object presents the characteristics of an elliptical galaxy:\n",
        "\n",
        "+ 0.85 <= t01_smooth_or_features_a01_smooth_fraction <= 0.90\n",
        "+ 0.85 <= t07_rounded_a16_completely_round_fraction <= 0.90\n",
        "+ 0.85 <= t06_odd_a15_no_fraction <= 0.90\n",
        "\n",
        "Whether the object presents the characteristics for it being an \"odd\" (irregular, ring, lens, disturbed, merger, dust lane, and other galactic features [Ghaderi et al. 2025]) galaxy:\n",
        "\n",
        "+ 0.85 <= t06_odd_a14_yes_fraction <= 0.90"
      ],
      "metadata": {
        "id": "Cbj7u8-6wQZ1"
      }
    },
    {
      "cell_type": "code",
      "source": [
        "file_path_columns = \"/content/drive/Shared drives/DLP Project/Project/GZ2_thresholds/gz2_hart16.csv.gz\"\n",
        "data_columns = pd.read_csv(file_path_columns)\n",
        "#data_columns.head()"
      ],
      "metadata": {
        "id": "38HUMv6loZBm"
      },
      "execution_count": null,
      "outputs": []
    },
    {
      "cell_type": "code",
      "source": [
        "df_columns = pd.read_csv(file_path_columns, compression='gzip')\n",
        "\n",
        "# Removing non-galaxy samples\n",
        "df_galaxies = df_columns[df_columns['t01_smooth_or_features_a03_star_or_artifact_fraction'] < 0.5]\n",
        "\n",
        "# Apply thresholds for spiral galaxies\n",
        "spiral_galaxies = df_galaxies[\n",
        "    (df_galaxies['t01_smooth_or_features_a02_features_or_disk_fraction'] >= 0.90) &\n",
        "    (df_galaxies['t01_smooth_or_features_a02_features_or_disk_fraction'] <= 0.95) &\n",
        "    (df_galaxies['t02_edgeon_a05_no_fraction'] >= 0.90) &\n",
        "    (df_galaxies['t02_edgeon_a05_no_fraction'] <= 0.95) &\n",
        "    (df_galaxies['t04_spiral_a08_spiral_fraction'] >= 0.90) &\n",
        "    (df_galaxies['t04_spiral_a08_spiral_fraction'] <= 0.95)]\n",
        "\n",
        "# Apply thresholds for elliptical galaxies\n",
        "elliptical_galaxies = df_galaxies[\n",
        "    (df_galaxies['t01_smooth_or_features_a01_smooth_fraction'] >= 0.85) &\n",
        "    (df_galaxies['t01_smooth_or_features_a01_smooth_fraction'] <= 0.90) &\n",
        "    (df_galaxies['t07_rounded_a16_completely_round_fraction'] >= 0.85) &\n",
        "    (df_galaxies['t07_rounded_a16_completely_round_fraction'] <= 0.90) &\n",
        "    (df_galaxies['t06_odd_a15_no_fraction'] >= 0.85) &\n",
        "    (df_galaxies['t06_odd_a15_no_fraction'] <= 0.90)\n",
        "]\n",
        "\n",
        "# Apply thresholds for odd objects\n",
        "odd_objects = df_galaxies[\n",
        "    (df_galaxies['t06_odd_a14_yes_fraction'] >= 0.85) &\n",
        "    (df_galaxies['t06_odd_a14_yes_fraction'] <= 0.90)]\n",
        "\n",
        "print(f\"Total Spiral Galaxies: {len(spiral_galaxies)}\")\n",
        "print(f\"Total Elliptical Galaxies: {len(elliptical_galaxies)}\")\n",
        "print(f\"Total Odd Objects: {len(odd_objects)}\")"
      ],
      "metadata": {
        "id": "NMvACZm2tcF2"
      },
      "execution_count": null,
      "outputs": []
    },
    {
      "cell_type": "code",
      "source": [
        "# File name mapping\n",
        "\n",
        "file_path_map = \"/content/drive/Shared drives/DLP Project/Project/GZ2_thresholds/gz2_filename_mapping.csv\"\n",
        "data_map = pd.read_csv(file_path_map)\n",
        "#data_map.head()"
      ],
      "metadata": {
        "id": "9Barj1A04XkT"
      },
      "execution_count": null,
      "outputs": []
    },
    {
      "cell_type": "markdown",
      "source": [
        "Extraction with these thresholds has been completed, so this cell is commented out."
      ],
      "metadata": {
        "id": "q_jeZWnJyJNX"
      }
    },
    {
      "cell_type": "code",
      "source": [
        "# Extracting the galaxies into different folders, depending on class\n",
        "\n",
        "# Paths to images and output folder\n",
        "zip_path = \"/content/drive/Shared drives/DLP Project/Project/GZ2_thresholds/Datazipped/images_gz2.zip\"\n",
        "output_folder = \"/content/drive/Shared drives/DLP Project/Project/GZ2_thresholds/Data_85_90\"\n",
        "\n",
        "# spiral_folder = os.path.join(output_folder, 'spiral')\n",
        "# elliptical_folder = os.path.join(output_folder, 'elliptical')\n",
        "# odd_folder = os.path.join(output_folder, 'odd')\n",
        "\n",
        "# os.makedirs(spiral_folder, exist_ok=True)\n",
        "# os.makedirs(elliptical_folder, exist_ok=True)\n",
        "# os.makedirs(odd_folder, exist_ok=True)\n",
        "\n",
        "# # Read the asset_id mapping\n",
        "# file_path_map = \"/content/drive/Shared drives/DLP Project/Project/GZ2_thresholds/gz2_filename_mapping.csv\"\n",
        "# data_map = pd.read_csv(file_path_map)\n",
        "\n",
        "# if 'objid' not in data_map.columns or 'asset_id' not in data_map.columns:\n",
        "#     raise ValueError(\"Missing required columns: 'objid' or 'asset_id'\")\n",
        "\n",
        "# def extract_images(df, class_folder):\n",
        "#     with zipfile.ZipFile(zip_path, 'r') as zip_ref:\n",
        "#         # Merge the data to get the asset_id for the corresponding dr7objid\n",
        "#         merged_df = df.merge(data_map[['objid', 'asset_id']], left_on='dr7objid', right_on='objid', how='left')\n",
        "\n",
        "#         if merged_df['asset_id'].isnull().any():\n",
        "#             print(\"Warning: Some dr7objid values are missing asset_id mappings\")\n",
        "\n",
        "#         image_names = [f\"images/{int(asset_id)}.jpg\" for asset_id in merged_df['asset_id'].dropna()]\n",
        "\n",
        "#         for image_name in tqdm(image_names, desc=f\"Extracting images to {class_folder}\", unit=\"image\"):\n",
        "#             if image_name in zip_ref.namelist():\n",
        "#                 zip_ref.extract(image_name, output_folder)\n",
        "#                 shutil.move(os.path.join(output_folder, image_name), class_folder)\n",
        "#             else:\n",
        "#                 print(f\"Image not found: {image_name}\")\n",
        "\n",
        "# extract_images(spiral_galaxies, spiral_folder)\n",
        "# extract_images(elliptical_galaxies, elliptical_folder)\n",
        "# extract_images(odd_objects, odd_folder)"
      ],
      "metadata": {
        "id": "zl-eKzoR0J3S",
        "collapsed": true
      },
      "execution_count": null,
      "outputs": []
    },
    {
      "cell_type": "code",
      "source": [
        "def count_files(folder_path):\n",
        "    return len([f for f in os.listdir(folder_path) if os.path.isfile(os.path.join(folder_path, f))])\n",
        "\n",
        "print(f\"Spiral Galaxies: {count_files(spiral_folder)} images\")\n",
        "print(f\"Elliptical Galaxies: {count_files(elliptical_folder)} images\")\n",
        "print(f\"Odd Objects: {count_files(odd_folder)} images\")"
      ],
      "metadata": {
        "id": "8upelwHxtcfN"
      },
      "execution_count": null,
      "outputs": []
    }
  ]
}