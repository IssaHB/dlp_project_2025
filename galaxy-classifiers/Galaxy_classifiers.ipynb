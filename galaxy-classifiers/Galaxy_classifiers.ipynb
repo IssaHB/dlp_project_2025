{
  "metadata": {
    "kernelspec": {
      "name": "python3",
      "display_name": "Python 3"
    },
    "language_info": {
      "name": "python",
      "version": "3.10.12",
      "mimetype": "text/x-python",
      "codemirror_mode": {
        "name": "ipython",
        "version": 3
      },
      "pygments_lexer": "ipython3",
      "nbconvert_exporter": "python",
      "file_extension": ".py"
    },
    "colab": {
      "provenance": [],
      "gpuType": "T4",
      "machine_shape": "hm"
    },
    "kaggle": {
      "accelerator": "none",
      "dataSources": [
        {
          "sourceId": 11090645,
          "sourceType": "datasetVersion",
          "datasetId": 6913273
        },
        {
          "sourceId": 11091736,
          "sourceType": "datasetVersion",
          "datasetId": 6914118
        },
        {
          "sourceId": 11151446,
          "sourceType": "datasetVersion",
          "datasetId": 6957343
        },
        {
          "sourceId": 11151450,
          "sourceType": "datasetVersion",
          "datasetId": 6957346
        }
      ],
      "dockerImageVersionId": 30919,
      "isInternetEnabled": true,
      "language": "python",
      "sourceType": "notebook",
      "isGpuEnabled": false
    },
    "accelerator": "GPU"
  },
  "nbformat_minor": 0,
  "nbformat": 4,
  "cells": [
    {
      "cell_type": "markdown",
      "source": [
        "# Galaxy Classifiers (Spiral, Elliptical, Odd objects)\n",
        "\n",
        "**Most of this code is made by the authors of the paper of Ghaderi et al. (2025) (https://iopscience.iop.org/article/10.3847/1538-4365/ada8ab) and taken from the GitHub Repository: https://github.com/hmddev1/machine_learning_for_morphological_galaxy_classification**\n",
        "\n",
        "**This notebook classifies the images of galaxies to spiral and elliptical galaxies and odd objects. It was created to reproduce the results of the paper, but it was also debugged.**"
      ],
      "metadata": {
        "id": "yTUTxod69wFg"
      }
    },
    {
      "cell_type": "markdown",
      "source": [
        "Here, we developed five machine learning classifiers to identify galaxy images into Spiral, Elliptical, and Odd objects (e.g., ring, lensed, disturbed, irregular, merger, and dust lane) that were collected from [Galaxy Zoo 2](https://data.galaxyzoo.org/#section-7) (GZ2) catalogue. There is a total of 11735 samples including 6139, 4077, 1519 for spiral, elliptical, and odd objects.\n",
        "\n",
        "- Two classifier models including support vector machine (SVM) and classic convolutional nueral network (CNN) have been designed to use Zernike Moments extracted from original galaxy images.\n",
        "- Three classifier models, including CNN-Vision Transformer, ResNet50 and VGG16 are trained to obtain information from the original galaxy images."
      ],
      "metadata": {
        "id": "K2p6mMjNfZVE"
      }
    },
    {
      "cell_type": "markdown",
      "source": [
        "### Importing libraries\n",
        "\n",
        "The list of requried libraries are sklearn, pandas, numpy, tensorflow, matplotlib, etc."
      ],
      "metadata": {
        "id": "mP0dWuE6_CYW"
      }
    },
    {
      "cell_type": "code",
      "source": [
        "path = '/content/drive/Shared drives/DLP Project/Project/Models/'\n",
        "os.chdir(path)"
      ],
      "metadata": {
        "id": "YhA6F2ZO_gtF",
        "trusted": true,
        "execution": {
          "iopub.status.busy": "2025-03-24T18:50:40.246094Z",
          "iopub.execute_input": "2025-03-24T18:50:40.246326Z",
          "iopub.status.idle": "2025-03-24T18:50:40.251593Z",
          "shell.execute_reply.started": "2025-03-24T18:50:40.246306Z",
          "shell.execute_reply": "2025-03-24T18:50:40.250768Z"
        }
      },
      "outputs": [],
      "execution_count": 35
    },
    {
      "cell_type": "code",
      "source": [
        "%run imports.py\n",
        "%matplotlib inline\n",
        "import plotting"
      ],
      "metadata": {
        "id": "zIL7M8el_tKs",
        "trusted": true,
        "execution": {
          "iopub.status.busy": "2025-03-24T18:50:48.222628Z",
          "iopub.execute_input": "2025-03-24T18:50:48.222967Z",
          "iopub.status.idle": "2025-03-24T18:51:01.643351Z",
          "shell.execute_reply.started": "2025-03-24T18:50:48.222933Z",
          "shell.execute_reply": "2025-03-24T18:51:01.642660Z"
        }
      },
      "outputs": [],
      "execution_count": 36
    },
    {
      "cell_type": "markdown",
      "source": [
        "**Note**: The original authors use the following functions and code to crop the images. We have commented it out here as the publically available data have already undergone this pre-processing, but we keep it for reproducibility."
      ],
      "metadata": {
        "id": "vHTTYoRSQ8Kx"
      }
    },
    {
      "cell_type": "code",
      "source": [
        "# Function used to crop the images\n",
        "\n",
        "# def seg_1(img):\n",
        "#   gray = cv2.cvtColor(img, cv2.COLOR_BGR2GRAY)\n",
        "#   ret, thresh = cv2.threshold(gray, 0, 255, cv2.THRESH_BINARY_INV +cv2.THRESH_OTSU, cv2.THRESH_TRUNC)\n",
        "#   kernel = np.ones((3,3),np.uint8)\n",
        "#   opening = cv2.morphologyEx(thresh,cv2.MORPH_OPEN,kernel, iterations = 2)\n",
        "#   sure_bg = cv2.dilate(opening,kernel,iterations=3)\n",
        "#   dist_transform = cv2.distanceTransform(opening,cv2.DIST_L2,5)\n",
        "#   ret, aa = cv2.threshold(dist_transform,0.01*dist_transform.max(),255,0)\n",
        "#   x,y=np.where(aa==0)\n",
        "#   im=thresh.copy()*0\n",
        "#   im[x,y]=1\n",
        "#   im1 = label(im)\n",
        "#   f=im1[149,149]\n",
        "#   x,y=np.where(im1==f)\n",
        "#   imd=im1.copy()*0\n",
        "#   imd[x,y]=1\n",
        "#   return x,y,imd\n",
        "\n",
        "\n",
        "# def seg_2(img):\n",
        "#   segments = slic(img,n_segments=25,compactness=10)\n",
        "#   ss=label2rgb(segments,img,kind = 'avg')\n",
        "#   aa=ss[:,:,2]\n",
        "#   f=aa[149,149]\n",
        "#   x,y=np.where(aa==f)\n",
        "#   dd=aa.copy()*0\n",
        "#   dd[x,y]=1\n",
        "#   return x,y,dd\n",
        "\n",
        "\n",
        "# def seg_3(img,x,y):\n",
        "#     x1=np.min(x)-20\n",
        "#     x2=np.max(x)+20\n",
        "#     y1=np.min(y)-20\n",
        "#     y2=np.max(y)+20\n",
        "#     imn=img[x1:x2,y1:y2]\n",
        "#     newsize=(x2-x1,x2-x1)\n",
        "#     resized_im =resize(imn,newsize)\n",
        "#     xx = x1 + (x2 - x1) / 2 - 149\n",
        "#     yy = y1 + (y2 - y1) / 2 - 149\n",
        "#     return xx, yy,resized_im"
      ],
      "metadata": {
        "id": "-0XfYmjcYbfL",
        "trusted": true,
        "execution": {
          "iopub.status.busy": "2025-03-24T18:51:01.665242Z",
          "iopub.execute_input": "2025-03-24T18:51:01.665456Z",
          "iopub.status.idle": "2025-03-24T18:51:01.679683Z",
          "shell.execute_reply.started": "2025-03-24T18:51:01.665438Z",
          "shell.execute_reply": "2025-03-24T18:51:01.678990Z"
        }
      },
      "outputs": [],
      "execution_count": 37
    },
    {
      "cell_type": "code",
      "source": [
        "# Cropping the images using the watershed algorithm.\n",
        "\n",
        "# cropped_imgs = []\n",
        "# cropped_image_count = 0\n",
        "\n",
        "# for im in image_files:\n",
        "#     xx=100\n",
        "#     yy=100\n",
        "#     img = cv2.imread(im)\n",
        "#     x, y, imd = seg_1(img)\n",
        "\n",
        "#     if np.min(x)>20 and np.min(y)>20 and np.max(y)<149*2-20 and np.max(x)<149*2-20:\n",
        "#         xx,yy,resized_im=seg_3(img,x,y)\n",
        "#         if (np.abs(xx) >= 30) and (np.abs(yy) >= 30):\n",
        "#             x, y, dd = seg_2(img)\n",
        "#             xx,yy,resized_im=seg_3(img,x,y)\n",
        "#     else:\n",
        "#         x, y, dd = seg_2(img)\n",
        "#         if np.min(x)>20 and np.min(y)>20 and np.max(y)<149*2-20 and np.max(x)<149*2-20:\n",
        "#             xx,yy,resized_im=seg_3(img,x,y)\n",
        "#             # print(xx,yy)\n",
        "#     if (np.abs(xx) < 30) and (np.abs(yy) < 30):\n",
        "#             ms = np.shape(resized_im)\n",
        "#             if ms[0] < 150:\n",
        "#                 crop_img = np.array(resize(resized_im, (150, 150)))\n",
        "#             elif (ms[0] < 250) and (ms[0] >= 150):\n",
        "#                 crop_img = np.array(resize(resized_im, (250, 250)))\n",
        "#             elif (ms[0] < 350) and (ms[0] >= 250):\n",
        "#                 crop_img = np.array(resize(resized_im, (350, 350)))\n",
        "#             elif ms[0] >= 350:\n",
        "#                 crop_img = np.array(resize(resized_im, (450, 450)))\n",
        "\n",
        "#             arr_img = np.array(crop_img)\n",
        "#             cropped_imgs.append(arr_img)\n",
        "\n",
        "#             cropped_image_count += 1\n",
        "\n",
        "\n",
        "# print(f\"Total number of cropped images: {cropped_image_count}\")"
      ],
      "metadata": {
        "id": "Pe2QRG2_gQ_N",
        "trusted": true,
        "execution": {
          "iopub.status.busy": "2025-03-24T18:51:01.680518Z",
          "iopub.execute_input": "2025-03-24T18:51:01.680741Z",
          "iopub.status.idle": "2025-03-24T18:51:01.692314Z",
          "shell.execute_reply.started": "2025-03-24T18:51:01.680693Z",
          "shell.execute_reply": "2025-03-24T18:51:01.691463Z"
        }
      },
      "outputs": [],
      "execution_count": 38
    },
    {
      "cell_type": "markdown",
      "source": [
        "Here, we create a dictionary where we will save the ROC curves of each model in order to plot them all together at the end, to make comparisons."
      ],
      "metadata": {
        "id": "auwgcmGITNSA"
      }
    },
    {
      "cell_type": "code",
      "source": [
        "roc_curves = {}"
      ],
      "metadata": {
        "id": "9wXWEOo2TM4v",
        "trusted": true,
        "execution": {
          "iopub.status.busy": "2025-03-24T18:51:01.693066Z",
          "iopub.execute_input": "2025-03-24T18:51:01.693253Z",
          "iopub.status.idle": "2025-03-24T18:51:01.705842Z",
          "shell.execute_reply.started": "2025-03-24T18:51:01.693237Z",
          "shell.execute_reply": "2025-03-24T18:51:01.705114Z"
        }
      },
      "outputs": [],
      "execution_count": 39
    },
    {
      "cell_type": "markdown",
      "source": [
        "## **Models I and II**: Two classifier models based on Zernike Moments (ZMs)\n",
        "\n",
        "### Compute the ZMs:\n",
        "\n",
        "##### We will use the [ZEMO](https://pypi.org/project/ZEMO/) python package to compute ZMs for galaxy and non-galaxy images. [This](https://github.com/hmddev1/ZEMO) GitHub repo can be used to compute ZMs for images. This package was described in the research paper [[IAJJ](https://ijaa.du.ac.ir/article_374_ad45803d737b0a7d4fc554a244229df6.pdf)].\n",
        "\n",
        "*Note: The galaxy and non-galaxy images are in RGB format. Here, we used the R channel of images. The size of original Galaxy Zoo 2 images is (424, 424) pixels, while we resized them to (200, 200) pixels. To compute ZMs we set the maximum order number $P_{max} = 45$.*"
      ],
      "metadata": {
        "id": "9Fk4T7w5hhhk"
      }
    },
    {
      "cell_type": "code",
      "source": [
        "def calculate_zernike_moments(data_dir, image_size, zernike_order):\n",
        "\n",
        "        ZBFSTR = zemo.zernike_bf(image_size, zernike_order, 1)\n",
        "\n",
        "        image_files = [os.path.join(data_dir, filename) for filename in os.listdir(data_dir) if filename.endswith('.jpg')]\n",
        "\n",
        "        zernike_moments = []\n",
        "\n",
        "        #for img_path in image_files:\n",
        "        for img_path in tqdm(image_files, desc=\"Processing images\", unit=\"image\"):\n",
        "            image = cv2.imread(img_path)\n",
        "            resized_image = cv2.resize(image, (image_size,image_size))\n",
        "            im = resized_image[:, :, 0]\n",
        "            Z = np.abs(zemo.zernike_mom(np.array(im), ZBFSTR))\n",
        "            zernike_moments.append(Z)\n",
        "\n",
        "        df = pd.DataFrame(zernike_moments)\n",
        "\n",
        "        return df"
      ],
      "metadata": {
        "id": "f06sBYiVhg5n",
        "trusted": true,
        "execution": {
          "iopub.status.busy": "2025-03-24T18:51:04.981280Z",
          "iopub.execute_input": "2025-03-24T18:51:04.981532Z",
          "iopub.status.idle": "2025-03-24T18:51:04.990362Z",
          "shell.execute_reply.started": "2025-03-24T18:51:04.981510Z",
          "shell.execute_reply": "2025-03-24T18:51:04.989662Z"
        }
      },
      "outputs": [],
      "execution_count": 40
    },
    {
      "cell_type": "markdown",
      "source": [
        "- The **Data** files for this notebook can be downloaded from [this link](https://drive.google.com/file/d/1wxmYQ8qpgaVDuD3kTeBrZlyny0IBA9wn/view?usp=drive_link)."
      ],
      "metadata": {
        "id": "RcNX6iVbjIX7"
      }
    },
    {
      "cell_type": "code",
      "source": [
        "# Paths to images\n",
        "spath = r'/content/drive/Shared drives/DLP Project/Project/Data/galaxy/images/cropped_spiral'\n",
        "epath = r'/content/drive/Shared drives/DLP Project/Project/Data/galaxy/images/cropped_elliptical'\n",
        "opath = r'/content/drive/Shared drives/DLP Project/Project/Data/galaxy/images/cropped_odd'\n",
        "\n",
        "# Default image size and zernike order.\n",
        "image_size = 200\n",
        "zernike_order = 45"
      ],
      "metadata": {
        "id": "eRn0P9Wci6tT",
        "trusted": true,
        "execution": {
          "iopub.status.busy": "2025-03-24T18:51:04.991857Z",
          "iopub.execute_input": "2025-03-24T18:51:04.992114Z",
          "iopub.status.idle": "2025-03-24T18:51:05.002047Z",
          "shell.execute_reply.started": "2025-03-24T18:51:04.992094Z",
          "shell.execute_reply": "2025-03-24T18:51:05.001102Z"
        }
      },
      "outputs": [],
      "execution_count": 41
    },
    {
      "cell_type": "markdown",
      "source": [
        "**Note**: The following cell calculates the Zernike Moments for all the images of all classes (i.e., Spiral Galaxies, Elliptical Galaxies & Odd Objects). This is time consuming and only needs to be done once, so we have commented this part out and kept it for reproducibility."
      ],
      "metadata": {
        "id": "m9Y3ZCnBkRd1"
      }
    },
    {
      "cell_type": "code",
      "source": [
        "# WARNING: This cell takes a lot of time!\n",
        "\n",
        "# Calculating Zernike Momens (ZMs)\n",
        "#spiral_zm_df = calculate_zernike_moments(spath, image_size, zernike_order)\n",
        "#spiral_zm_df.to_csv('/content/drive/Shared drives/DLP Project/Project/spiral_zms.csv')\n",
        "#spiral_zm_df = pd.read_csv('/content/drive/Shared drives/DLP Project/Project/spiral_zms.csv', index_col=0)\n",
        "\n",
        "#elliptical_zm_df = calculate_zernike_moments(epath, image_size, zernike_order)\n",
        "#elliptical_zm_df.to_csv('/content/drive/Shared drives/DLP Project/Project/elliptical_zms.csv')\n",
        "\n",
        "#odd_zm_df = calculate_zernike_moments(opath, image_size, zernike_order)\n",
        "#odd_zm_df.to_csv('/content/drive/Shared drives/DLP Project/Project/odd_zms.csv')\n",
        "\n",
        "#np.shape(spiral_zm_df), np.shape(elliptical_zm_df), np.shape(odd_zm_df)"
      ],
      "metadata": {
        "id": "G0sC75OxkQgS",
        "trusted": true,
        "execution": {
          "iopub.status.busy": "2025-03-24T18:51:05.002925Z",
          "iopub.execute_input": "2025-03-24T18:51:05.003253Z",
          "iopub.status.idle": "2025-03-24T18:51:05.013742Z",
          "shell.execute_reply.started": "2025-03-24T18:51:05.003223Z",
          "shell.execute_reply": "2025-03-24T18:51:05.013053Z"
        }
      },
      "outputs": [],
      "execution_count": 42
    },
    {
      "cell_type": "code",
      "source": [
        "# Loading the ZMs and concatenating to a consolidated dataset\n",
        "spiral_data = pd.read_csv('/content/drive/Shared drives/DLP Project/Project/spiral_zms.csv')\n",
        "elliptical_data = pd.read_csv('/content/drive/Shared drives/DLP Project/Project/elliptical_zms.csv')\n",
        "odd_data = pd.read_csv('/content/drive/Shared drives/DLP Project/Project/odd_zms.csv')\n",
        "\n",
        "spiral_data.drop(\"Unnamed: 0\", axis = 1, inplace = True)\n",
        "elliptical_data.drop(\"Unnamed: 0\", axis = 1, inplace = True)\n",
        "odd_data.drop(\"Unnamed: 0\", axis = 1, inplace = True)\n",
        "\n",
        "all_zm_data = np.concatenate([spiral_data, elliptical_data, odd_data])\n",
        "np.shape(all_zm_data)"
      ],
      "metadata": {
        "colab": {
          "base_uri": "https://localhost:8080/"
        },
        "id": "pY60ot92ly8_",
        "outputId": "3110e8b9-fa19-4172-ced8-77ec9d2f9632",
        "trusted": true,
        "execution": {
          "iopub.status.busy": "2025-03-24T18:51:05.014689Z",
          "iopub.execute_input": "2025-03-24T18:51:05.015010Z",
          "iopub.status.idle": "2025-03-24T18:51:09.500731Z",
          "shell.execute_reply.started": "2025-03-24T18:51:05.014981Z",
          "shell.execute_reply": "2025-03-24T18:51:09.499789Z"
        }
      },
      "outputs": [
        {
          "output_type": "execute_result",
          "data": {
            "text/plain": [
              "(11744, 1081)"
            ]
          },
          "metadata": {},
          "execution_count": 43
        }
      ],
      "execution_count": 43
    },
    {
      "cell_type": "markdown",
      "source": [
        "We use **\"0\"** for spiral class labels, **\"1\"** for elliptical class labels, and **\"2\"** for odd objects class labels. The same labels are used across all models."
      ],
      "metadata": {
        "id": "Phqpn0ZfmnVy"
      }
    },
    {
      "cell_type": "code",
      "source": [
        "spiral_label = [0] * len(spiral_data)\n",
        "elliptical_label = [1] * len(elliptical_data)\n",
        "odd_label = [2] * len(odd_data)\n",
        "\n",
        "all_labels = np.concatenate([spiral_label, elliptical_label, odd_label])\n",
        "len(all_labels)"
      ],
      "metadata": {
        "colab": {
          "base_uri": "https://localhost:8080/"
        },
        "id": "WKuE3PO5mHoj",
        "outputId": "ab188918-e8a1-463c-b813-fe0eaf30cef9",
        "trusted": true,
        "execution": {
          "iopub.status.busy": "2025-03-24T18:51:09.501554Z",
          "iopub.execute_input": "2025-03-24T18:51:09.501833Z",
          "iopub.status.idle": "2025-03-24T18:51:09.507822Z",
          "shell.execute_reply.started": "2025-03-24T18:51:09.501811Z",
          "shell.execute_reply": "2025-03-24T18:51:09.506951Z"
        }
      },
      "outputs": [
        {
          "output_type": "execute_result",
          "data": {
            "text/plain": [
              "11744"
            ]
          },
          "metadata": {},
          "execution_count": 44
        }
      ],
      "execution_count": 44
    },
    {
      "cell_type": "markdown",
      "source": [
        "### **Model I: SVM + ZMs**"
      ],
      "metadata": {
        "id": "spNeWVHFm0QP"
      }
    },
    {
      "cell_type": "markdown",
      "source": [
        "We split the data set into 75 percent traning set and 25 percent test set:"
      ],
      "metadata": {
        "id": "iYFTQch_nDlg"
      }
    },
    {
      "cell_type": "code",
      "source": [
        "X_train, X_test, y_train, y_test, train_indices, test_indices = train_test_split(all_zm_data, all_labels, np.arange(len(all_labels)),\n",
        "                                                                                 test_size=0.25, shuffle=True, random_state=50)"
      ],
      "metadata": {
        "id": "zMQ3KJbUm19e",
        "trusted": true,
        "execution": {
          "iopub.status.busy": "2025-03-24T18:51:09.508616Z",
          "iopub.execute_input": "2025-03-24T18:51:09.508853Z",
          "iopub.status.idle": "2025-03-24T18:51:09.581813Z",
          "shell.execute_reply.started": "2025-03-24T18:51:09.508832Z",
          "shell.execute_reply": "2025-03-24T18:51:09.580796Z"
        }
      },
      "outputs": [],
      "execution_count": 45
    },
    {
      "cell_type": "markdown",
      "source": [
        "Galaxy classifiers are imbalanced class models, meaning one class can significantly outweigh another, so we used the class weights in the program. This serves to mediate overrepresented classes and compensate for underrepresented ones."
      ],
      "metadata": {
        "id": "iUFR7V5VnJSm"
      }
    },
    {
      "cell_type": "code",
      "source": [
        "class_weights = {0: len(all_zm_data) / (3*len(spiral_data)), 1: len(all_zm_data) / (3*len(elliptical_data)), 2: len(all_zm_data) / (3*len(odd_data))}"
      ],
      "metadata": {
        "id": "r7JmGnFSnAkV",
        "trusted": true,
        "execution": {
          "iopub.status.busy": "2025-03-24T18:51:09.582843Z",
          "iopub.execute_input": "2025-03-24T18:51:09.583184Z",
          "iopub.status.idle": "2025-03-24T18:51:09.587479Z",
          "shell.execute_reply.started": "2025-03-24T18:51:09.583152Z",
          "shell.execute_reply": "2025-03-24T18:51:09.586634Z"
        }
      },
      "outputs": [],
      "execution_count": 46
    },
    {
      "cell_type": "markdown",
      "source": [
        "The **SVM** model uses radial base kernel (rbf), C = 1.5, and gamma = 'scale' to fit the model on the training set:"
      ],
      "metadata": {
        "id": "kyPLrAlEo6_V"
      }
    },
    {
      "cell_type": "code",
      "source": [
        "model = SVC(kernel='rbf', probability=True, C=1.5, gamma='scale',class_weight=class_weights)\n",
        "gz2_training_model = model.fit(X_train, y_train)"
      ],
      "metadata": {
        "id": "EmWfzLErn_43",
        "trusted": true,
        "execution": {
          "iopub.status.busy": "2025-03-24T18:51:09.588377Z",
          "iopub.execute_input": "2025-03-24T18:51:09.588638Z",
          "iopub.status.idle": "2025-03-24T18:51:28.375487Z",
          "shell.execute_reply.started": "2025-03-24T18:51:09.588612Z",
          "shell.execute_reply": "2025-03-24T18:51:28.374754Z"
        }
      },
      "outputs": [],
      "execution_count": 47
    },
    {
      "cell_type": "markdown",
      "source": [
        "Now, we make predictions on the test set (i.e., unseen data) to evaluate the classification model. Comparing the predicted labels to the true labels, we compute the elements of the confusion matrix."
      ],
      "metadata": {
        "id": "3RVFge3ppCNI"
      }
    },
    {
      "cell_type": "code",
      "source": [
        "y_pred = gz2_training_model.predict(X_test)"
      ],
      "metadata": {
        "id": "LIA5e8U_p2XF",
        "trusted": true,
        "execution": {
          "iopub.status.busy": "2025-03-24T18:51:28.376342Z",
          "iopub.execute_input": "2025-03-24T18:51:28.376654Z",
          "iopub.status.idle": "2025-03-24T18:51:30.572544Z",
          "shell.execute_reply.started": "2025-03-24T18:51:28.376609Z",
          "shell.execute_reply": "2025-03-24T18:51:30.571795Z"
        }
      },
      "outputs": [],
      "execution_count": 48
    },
    {
      "cell_type": "code",
      "source": [
        "classes = ['Spiral', 'Elliptical', 'Odd']\n",
        "plotting.plot_confusion_matrix(y_test, y_pred, classes=classes, cmap=plt.cm.Purples, normalize=False, x_tick_rot=0)\n",
        "plt.savefig('CM_final1')"
      ],
      "metadata": {
        "colab": {
          "base_uri": "https://localhost:8080/",
          "height": 487
        },
        "id": "TWFdbyRno_-y",
        "outputId": "db27152b-f192-456a-eb8d-d3311b534863",
        "trusted": true,
        "execution": {
          "iopub.status.busy": "2025-03-24T18:51:30.573586Z",
          "iopub.execute_input": "2025-03-24T18:51:30.573978Z",
          "iopub.status.idle": "2025-03-24T18:51:30.842113Z",
          "shell.execute_reply.started": "2025-03-24T18:51:30.573942Z",
          "shell.execute_reply": "2025-03-24T18:51:30.841126Z"
        }
      },
      "outputs": [
        {
          "output_type": "display_data",
          "data": {
            "text/plain": [
              "<Figure size 640x480 with 2 Axes>"
            ],
            "image/png": "[encoded data removed]"
          },
          "metadata": {}
        }
      ],
      "execution_count": 51
    },
    {
      "cell_type": "markdown",
      "source": [
        "To compare the performance of the classifier with random classifications, we calculate the **receiver operation charecterstic curve (ROC curve)**. The **area under the curve (AUC)** shows the probability of True positive rates of the classifier."
      ],
      "metadata": {
        "id": "XIA7b_48tkfR"
      }
    },
    {
      "cell_type": "code",
      "source": [
        "y_score = gz2_training_model.predict_proba(X_test)  # Use predicted probabilities for ROC curve"
      ],
      "metadata": {
        "id": "l7xla7BXv2xF",
        "trusted": true,
        "execution": {
          "iopub.status.busy": "2025-03-24T18:51:30.843046Z",
          "iopub.execute_input": "2025-03-24T18:51:30.843292Z",
          "iopub.status.idle": "2025-03-24T18:51:32.846378Z",
          "shell.execute_reply.started": "2025-03-24T18:51:30.843268Z",
          "shell.execute_reply": "2025-03-24T18:51:32.845388Z"
        }
      },
      "outputs": [],
      "execution_count": 52
    },
    {
      "cell_type": "code",
      "source": [
        "y_test_bin = label_binarize(y_test, classes=list(range(3)))  # Binarize the true labels"
      ],
      "metadata": {
        "id": "_4ULykdrwAGD",
        "trusted": true,
        "execution": {
          "iopub.status.busy": "2025-03-24T18:51:32.847450Z",
          "iopub.execute_input": "2025-03-24T18:51:32.847820Z",
          "iopub.status.idle": "2025-03-24T18:51:32.855201Z",
          "shell.execute_reply.started": "2025-03-24T18:51:32.847785Z",
          "shell.execute_reply": "2025-03-24T18:51:32.854469Z"
        }
      },
      "outputs": [],
      "execution_count": 53
    },
    {
      "cell_type": "code",
      "source": [
        "fpr = dict()\n",
        "tpr = dict()\n",
        "roc_auc = dict()\n",
        "\n",
        "for i in range(3):\n",
        "    fpr[i], tpr[i], _ = roc_curve(y_test_bin[:, i], y_score[:, i])\n",
        "    roc_auc[i] = auc(fpr[i], tpr[i])\n",
        "\n",
        "class_names = ['Spiral', 'Elliptical', 'Odd Objects']\n",
        "\n",
        "fig, ax = plt.subplots(figsize=(6, 6), dpi=100)\n",
        "\n",
        "mean_fpr = np.linspace(-float(1e-6), 1, int(1e6))\n",
        "\n",
        "# Save ROC curves to plot them all together later\n",
        "model_i_roc_curves = []\n",
        "\n",
        "# -----------------------------------------------------------------------------\n",
        "# Note: There was a bug in the original code. The inner loop would attempt to\n",
        "# access dictionary values as if they were nested arrays, which is incorrect\n",
        "# and would lead to an error!\n",
        "#\n",
        "# for j in range(3):  # Iterate through each class\n",
        "#     tprs_interp = []\n",
        "#     for i in range(len(fpr)):\n",
        "#         tprs_interp.append(np.interp(mean_fpr, fpr[i][j], tpr[i][j]))\n",
        "#\n",
        "#     mean_tpr = np.mean(tprs_interp, axis=0)\n",
        "#     mean_auc = np.trapz(mean_tpr, mean_fpr)\n",
        "#\n",
        "#     ax.plot(mean_fpr, mean_tpr, label=f'{class_names[j]} (area = {mean_auc:.2f})', lw=2)\n",
        "# -----------------------------------------------------------------------------\n",
        "\n",
        "# Here is the fix:\n",
        "\n",
        "for i in range(3):  # Iterate through each class\n",
        "    tprs_interp = []\n",
        "    for j in range(len(fpr)):\n",
        "        tprs_interp.append(np.interp(mean_fpr, fpr[i], tpr[i]))\n",
        "\n",
        "    mean_tpr = np.mean(tprs_interp, axis=0)\n",
        "    mean_auc = np.trapz(mean_tpr, mean_fpr)\n",
        "\n",
        "    # Save curves to list\n",
        "    model_i_roc_curves.append((mean_fpr, mean_tpr, mean_auc))\n",
        "\n",
        "    # Plot curves\n",
        "    ax.plot(mean_fpr, mean_tpr, label=f'{class_names[i]} (AUC = {mean_auc:.3f})', lw=2)\n",
        "\n",
        "\n",
        "ax.plot([0, 1], [0, 1], linestyle='--', color='black', label='Random Guess')\n",
        "ax.set_xlabel('False Positive Rate')\n",
        "ax.set_ylabel('True Positive Rate')\n",
        "ax.set_title(f'Receiver Operating Characteristic (ROC) Curve')\n",
        "ax.legend(loc='lower right')\n",
        "\n",
        "plt.tight_layout()\n",
        "plt.show()"
      ],
      "metadata": {
        "id": "QeV2-S7QqQoa",
        "colab": {
          "base_uri": "https://localhost:8080/",
          "height": 607
        },
        "outputId": "611fe85d-29cb-48aa-9a20-0c612425b933",
        "trusted": true,
        "execution": {
          "iopub.status.busy": "2025-03-24T18:51:32.856023Z",
          "iopub.execute_input": "2025-03-24T18:51:32.856296Z",
          "iopub.status.idle": "2025-03-24T18:51:33.479683Z",
          "shell.execute_reply.started": "2025-03-24T18:51:32.856274Z",
          "shell.execute_reply": "2025-03-24T18:51:33.478780Z"
        }
      },
      "outputs": [
        {
          "output_type": "display_data",
          "data": {
            "text/plain": [
              "<Figure size 600x600 with 1 Axes>"
            ],
            "image/png": "[encoded data removed]"
          },
          "metadata": {}
        }
      ],
      "execution_count": 54
    },
    {
      "cell_type": "code",
      "source": [
        "# Save the ROC curves of this model to the roc_curves dictionary\n",
        "roc_curves['Model I'] = model_i_roc_curves"
      ],
      "metadata": {
        "id": "TAJm23ooUGxV",
        "trusted": true,
        "execution": {
          "iopub.status.busy": "2025-03-24T18:51:33.480522Z",
          "iopub.execute_input": "2025-03-24T18:51:33.480777Z",
          "iopub.status.idle": "2025-03-24T18:51:33.484252Z",
          "shell.execute_reply.started": "2025-03-24T18:51:33.480755Z",
          "shell.execute_reply": "2025-03-24T18:51:33.483429Z"
        }
      },
      "outputs": [],
      "execution_count": 55
    },
    {
      "cell_type": "code",
      "source": [
        "# Performance\n",
        "recall = recall_score(y_test, y_pred, average= 'weighted')\n",
        "precision = precision_score(y_test, y_pred, average= 'weighted')\n",
        "# -----------------------------------------------------------------------------\n",
        "# Note: There was a bug in the original code.\n",
        "# f1_score = f1_score(y_test, y_pred, average= 'weighted')\n",
        "# overwrites the function\n",
        "# -----------------------------------------------------------------------------\n",
        "# Here is the fix:\n",
        "f1 = f1_score(y_test, y_pred, average= 'weighted')\n",
        "accuracy = accuracy_score(y_test, y_pred)\n",
        "\n",
        "\n",
        "# Calculating the True Skill Score (TSS) for every class\n",
        "\n",
        "# We need the confusion matrix for this\n",
        "cm = confusion_matrix(y_test, y_pred)\n",
        "\n",
        "# -----------------------------------------------------------------------------\n",
        "# Note: There was a bug in the original code.\n",
        "#\n",
        "# tn, fp, fn, tp = confusion_matrix(y_test, y_pred).ravel()\n",
        "# tss=(tp/(tp+fn))-(fp/(fp+tn))\n",
        "# -----------------------------------------------------------------------------\n",
        "\n",
        "# Here is the fix:\n",
        "\n",
        "tss_per_class = {}\n",
        "\n",
        "for i, class_name in enumerate(class_names):\n",
        "    tp = cm[i, i]  # True Positives for class i\n",
        "    fn = np.sum(cm[i, :]) - tp  # False Negatives: Sum of row minus TP\n",
        "    fp = np.sum(cm[:, i]) - tp  # False Positives: Sum of column minus TP\n",
        "    tn = np.sum(cm) - (tp + fn + fp)  # True Negatives: All other elements\n",
        "\n",
        "    tss = (tp / (tp + fn)) - (fp / (fp + tn))  # True Skill Score for class i\n",
        "    tss_per_class[class_name] = tss\n",
        "\n",
        "    print(\"TSS for\", f\"'{class_name}'\", \"class:\", tss_per_class[class_name])"
      ],
      "metadata": {
        "colab": {
          "base_uri": "https://localhost:8080/"
        },
        "id": "ijc1R9QEuegd",
        "outputId": "ea59210f-52f6-407b-cd74-b47d92e7fedb",
        "trusted": true,
        "execution": {
          "iopub.status.busy": "2025-03-24T18:51:33.485255Z",
          "iopub.execute_input": "2025-03-24T18:51:33.485589Z",
          "iopub.status.idle": "2025-03-24T18:51:33.507257Z",
          "shell.execute_reply.started": "2025-03-24T18:51:33.485553Z",
          "shell.execute_reply": "2025-03-24T18:51:33.506560Z"
        }
      },
      "outputs": [
        {
          "output_type": "stream",
          "name": "stdout",
          "text": [
            "TSS for 'Spiral' class: 0.8230301947471861\n",
            "TSS for 'Elliptical' class: 0.975309556741092\n",
            "TSS for 'Odd Objects' class: 0.7562287748171368\n"
          ]
        }
      ],
      "execution_count": 56
    },
    {
      "cell_type": "code",
      "source": [
        "print(\"Recall:\", recall)\n",
        "print(\"Precision:\", precision)\n",
        "print(\"F1_score:\", f1)\n",
        "print(\"Accuracy:\", accuracy)"
      ],
      "metadata": {
        "colab": {
          "base_uri": "https://localhost:8080/"
        },
        "id": "2ci7-V49Y7zV",
        "outputId": "cc2f7264-ff6a-4b3c-c693-6f6b0ac26e29",
        "trusted": true,
        "execution": {
          "iopub.status.busy": "2025-03-24T18:51:33.511242Z",
          "iopub.execute_input": "2025-03-24T18:51:33.511441Z",
          "iopub.status.idle": "2025-03-24T18:51:33.518045Z",
          "shell.execute_reply.started": "2025-03-24T18:51:33.511425Z",
          "shell.execute_reply": "2025-03-24T18:51:33.517292Z"
        }
      },
      "outputs": [
        {
          "output_type": "stream",
          "name": "stdout",
          "text": [
            "Recall: 0.8995231607629428\n",
            "Precision: 0.9216158789230968\n",
            "F1_score: 0.9057966276905776\n",
            "Accuracy: 0.8995231607629428\n"
          ]
        }
      ],
      "execution_count": 57
    },
    {
      "cell_type": "markdown",
      "source": [
        "### **Model II: 1D CNN + ZMs**"
      ],
      "metadata": {
        "id": "idROSiPwjK_0"
      }
    },
    {
      "cell_type": "markdown",
      "source": [
        "We go through the same steps as before."
      ],
      "metadata": {
        "id": "Njlq-Sfnjw8M"
      }
    },
    {
      "cell_type": "code",
      "source": [
        "# Splitting into train and test sets\n",
        "X_train, X_test, y_train, y_test, train_indices, test_indices = train_test_split(all_zm_data, all_labels, np.arange(len(all_labels)),\n",
        "                                                                                 test_size=0.25, shuffle=True, random_state=50)\n",
        "\n",
        "y_train_encoded = to_categorical(y_train, num_classes=3)"
      ],
      "metadata": {
        "id": "zteYDH9ijKDi",
        "trusted": true,
        "execution": {
          "iopub.status.busy": "2025-03-24T18:51:33.520232Z",
          "iopub.execute_input": "2025-03-24T18:51:33.520429Z",
          "iopub.status.idle": "2025-03-24T18:51:33.588524Z",
          "shell.execute_reply.started": "2025-03-24T18:51:33.520412Z",
          "shell.execute_reply": "2025-03-24T18:51:33.587798Z"
        }
      },
      "outputs": [],
      "execution_count": 58
    },
    {
      "cell_type": "code",
      "source": [
        "# Defining the class weights to account for class imbalance\n",
        "class_weights = {0: len(all_zm_data) / (3*len(spiral_data)), 1: len(all_zm_data) / (3*len(elliptical_data)), 2: len(all_zm_data) / (3*len(odd_data))}"
      ],
      "metadata": {
        "id": "uzKbiNjOkAd9",
        "trusted": true,
        "execution": {
          "iopub.status.busy": "2025-03-24T18:51:33.589400Z",
          "iopub.execute_input": "2025-03-24T18:51:33.589726Z",
          "iopub.status.idle": "2025-03-24T18:51:33.593879Z",
          "shell.execute_reply.started": "2025-03-24T18:51:33.589672Z",
          "shell.execute_reply": "2025-03-24T18:51:33.592868Z"
        }
      },
      "outputs": [],
      "execution_count": 59
    },
    {
      "cell_type": "markdown",
      "source": [
        "Due to the one dimensional structure of ZMs, we used a one dimentional achitecture for the CNN:"
      ],
      "metadata": {
        "id": "p6te1By9kQz7"
      }
    },
    {
      "cell_type": "code",
      "source": [
        "# Building the model\n",
        "\n",
        "# input value\n",
        "x = Input(shape=(all_zm_data.shape[1],1))\n",
        "\n",
        "#hidden layers\n",
        "c0 = Conv1D(256, kernel_size=3, strides=2, padding=\"same\")(x)\n",
        "b0 = BatchNormalization()(c0)\n",
        "m0 = MaxPooling1D(pool_size=2)(b0)\n",
        "d0 = Dropout(0.1)(m0)\n",
        "\n",
        "c1 = Conv1D(128, kernel_size=3, strides=2, padding=\"same\")(d0)\n",
        "b1 = BatchNormalization()(c1)\n",
        "m1 = MaxPooling1D(pool_size=2)(b1)\n",
        "d1 = Dropout(0.1)(m1)\n",
        "\n",
        "c2 = Conv1D(64, kernel_size=3, strides=2, padding=\"same\")(d1)\n",
        "b2 = BatchNormalization()(c2)\n",
        "m2 = MaxPooling1D(pool_size=2)(b2)\n",
        "d2 = Dropout(0.1)(m2)\n",
        "\n",
        "f = Flatten()(d2)\n",
        "\n",
        "# output\n",
        "de0 = Dense(64, activation='relu')(f)\n",
        "de1 = Dense(32, activation='relu')(de0)\n",
        "# -----------------------------------------------------------------------------\n",
        "# Note: There was a bug in the original code. The original code uses 2 classes,\n",
        "# but we're dealing with 3 classes here!\n",
        "#\n",
        "# de2 = Dense(2, activation='softmax')(de1)\n",
        "# -----------------------------------------------------------------------------\n",
        "# Here is the fix:\n",
        "de2 = Dense(3, activation='softmax')(de1)  # Changed output to 3 classes\n",
        "\n",
        "model = Model(inputs=x, outputs=de2, name=\"cnn_zm_45_galaxy_nonegalaxy\")\n",
        "loss = tf.keras.losses.CategoricalCrossentropy()\n",
        "optimizer = tf.keras.optimizers.Adam()\n",
        "model.compile(loss=loss, optimizer=optimizer, metrics=['accuracy'])\n",
        "model.summary()"
      ],
      "metadata": {
        "colab": {
          "base_uri": "https://localhost:8080/",
          "height": 704
        },
        "id": "vTbJzRGJkM1L",
        "outputId": "b71570e2-e655-422a-a0a2-667541e01e47",
        "trusted": true,
        "execution": {
          "iopub.status.busy": "2025-03-24T18:51:33.594873Z",
          "iopub.execute_input": "2025-03-24T18:51:33.595250Z",
          "iopub.status.idle": "2025-03-24T18:51:35.521354Z",
          "shell.execute_reply.started": "2025-03-24T18:51:33.595184Z",
          "shell.execute_reply": "2025-03-24T18:51:35.520637Z"
        }
      },
      "outputs": [
        {
          "output_type": "display_data",
          "data": {
            "text/plain": [
              "\u001b[1mModel: \"cnn_zm_45_galaxy_nonegalaxy\"\u001b[0m\n"
            ],
            "text/html": [
              "<pre style=\"white-space:pre;overflow-x:auto;line-height:normal;font-family:Menlo,'DejaVu Sans Mono',consolas,'Courier New',monospace\"><span style=\"font-weight: bold\">Model: \"cnn_zm_45_galaxy_nonegalaxy\"</span>\n",
              "</pre>\n"
            ]
          },
          "metadata": {}
        },
        {
          "output_type": "display_data",
          "data": {
            "text/plain": [
              "┏━━━━━━━━━━━━━━━━━━━━━━━━━━━━━━━━━━━━━━┳━━━━━━━━━━━━━━━━━━━━━━━━━━━━━┳━━━━━━━━━━━━━━━━━┓\n",
              "┃\u001b[1m \u001b[0m\u001b[1mLayer (type)                        \u001b[0m\u001b[1m \u001b[0m┃\u001b[1m \u001b[0m\u001b[1mOutput Shape               \u001b[0m\u001b[1m \u001b[0m┃\u001b[1m \u001b[0m\u001b[1m        Param #\u001b[0m\u001b[1m \u001b[0m┃\n",
              "┡━━━━━━━━━━━━━━━━━━━━━━━━━━━━━━━━━━━━━━╇━━━━━━━━━━━━━━━━━━━━━━━━━━━━━╇━━━━━━━━━━━━━━━━━┩\n",
              "│ input_layer (\u001b[38;5;33mInputLayer\u001b[0m)             │ (\u001b[38;5;45mNone\u001b[0m, \u001b[38;5;34m1081\u001b[0m, \u001b[38;5;34m1\u001b[0m)             │               \u001b[38;5;34m0\u001b[0m │\n",
              "├──────────────────────────────────────┼─────────────────────────────┼─────────────────┤\n",
              "│ conv1d (\u001b[38;5;33mConv1D\u001b[0m)                      │ (\u001b[38;5;45mNone\u001b[0m, \u001b[38;5;34m541\u001b[0m, \u001b[38;5;34m256\u001b[0m)            │           \u001b[38;5;34m1,024\u001b[0m │\n",
              "├──────────────────────────────────────┼─────────────────────────────┼─────────────────┤\n",
              "│ batch_normalization                  │ (\u001b[38;5;45mNone\u001b[0m, \u001b[38;5;34m541\u001b[0m, \u001b[38;5;34m256\u001b[0m)            │           \u001b[38;5;34m1,024\u001b[0m │\n",
              "│ (\u001b[38;5;33mBatchNormalization\u001b[0m)                 │                             │                 │\n",
              "├──────────────────────────────────────┼─────────────────────────────┼─────────────────┤\n",
              "│ max_pooling1d (\u001b[38;5;33mMaxPooling1D\u001b[0m)         │ (\u001b[38;5;45mNone\u001b[0m, \u001b[38;5;34m270\u001b[0m, \u001b[38;5;34m256\u001b[0m)            │               \u001b[38;5;34m0\u001b[0m │\n",
              "├──────────────────────────────────────┼─────────────────────────────┼─────────────────┤\n",
              "│ dropout (\u001b[38;5;33mDropout\u001b[0m)                    │ (\u001b[38;5;45mNone\u001b[0m, \u001b[38;5;34m270\u001b[0m, \u001b[38;5;34m256\u001b[0m)            │               \u001b[38;5;34m0\u001b[0m │\n",
              "├──────────────────────────────────────┼─────────────────────────────┼─────────────────┤\n",
              "│ conv1d_1 (\u001b[38;5;33mConv1D\u001b[0m)                    │ (\u001b[38;5;45mNone\u001b[0m, \u001b[38;5;34m135\u001b[0m, \u001b[38;5;34m128\u001b[0m)            │          \u001b[38;5;34m98,432\u001b[0m │\n",
              "├──────────────────────────────────────┼─────────────────────────────┼─────────────────┤\n",
              "│ batch_normalization_1                │ (\u001b[38;5;45mNone\u001b[0m, \u001b[38;5;34m135\u001b[0m, \u001b[38;5;34m128\u001b[0m)            │             \u001b[38;5;34m512\u001b[0m │\n",
              "│ (\u001b[38;5;33mBatchNormalization\u001b[0m)                 │                             │                 │\n",
              "├──────────────────────────────────────┼─────────────────────────────┼─────────────────┤\n",
              "│ max_pooling1d_1 (\u001b[38;5;33mMaxPooling1D\u001b[0m)       │ (\u001b[38;5;45mNone\u001b[0m, \u001b[38;5;34m67\u001b[0m, \u001b[38;5;34m128\u001b[0m)             │               \u001b[38;5;34m0\u001b[0m │\n",
              "├──────────────────────────────────────┼─────────────────────────────┼─────────────────┤\n",
              "│ dropout_1 (\u001b[38;5;33mDropout\u001b[0m)                  │ (\u001b[38;5;45mNone\u001b[0m, \u001b[38;5;34m67\u001b[0m, \u001b[38;5;34m128\u001b[0m)             │               \u001b[38;5;34m0\u001b[0m │\n",
              "├──────────────────────────────────────┼─────────────────────────────┼─────────────────┤\n",
              "│ conv1d_2 (\u001b[38;5;33mConv1D\u001b[0m)                    │ (\u001b[38;5;45mNone\u001b[0m, \u001b[38;5;34m34\u001b[0m, \u001b[38;5;34m64\u001b[0m)              │          \u001b[38;5;34m24,640\u001b[0m │\n",
              "├──────────────────────────────────────┼─────────────────────────────┼─────────────────┤\n",
              "│ batch_normalization_2                │ (\u001b[38;5;45mNone\u001b[0m, \u001b[38;5;34m34\u001b[0m, \u001b[38;5;34m64\u001b[0m)              │             \u001b[38;5;34m256\u001b[0m │\n",
              "│ (\u001b[38;5;33mBatchNormalization\u001b[0m)                 │                             │                 │\n",
              "├──────────────────────────────────────┼─────────────────────────────┼─────────────────┤\n",
              "│ max_pooling1d_2 (\u001b[38;5;33mMaxPooling1D\u001b[0m)       │ (\u001b[38;5;45mNone\u001b[0m, \u001b[38;5;34m17\u001b[0m, \u001b[38;5;34m64\u001b[0m)              │               \u001b[38;5;34m0\u001b[0m │\n",
              "├──────────────────────────────────────┼─────────────────────────────┼─────────────────┤\n",
              "│ dropout_2 (\u001b[38;5;33mDropout\u001b[0m)                  │ (\u001b[38;5;45mNone\u001b[0m, \u001b[38;5;34m17\u001b[0m, \u001b[38;5;34m64\u001b[0m)              │               \u001b[38;5;34m0\u001b[0m │\n",
              "├──────────────────────────────────────┼─────────────────────────────┼─────────────────┤\n",
              "│ flatten (\u001b[38;5;33mFlatten\u001b[0m)                    │ (\u001b[38;5;45mNone\u001b[0m, \u001b[38;5;34m1088\u001b[0m)                │               \u001b[38;5;34m0\u001b[0m │\n",
              "├──────────────────────────────────────┼─────────────────────────────┼─────────────────┤\n",
              "│ dense (\u001b[38;5;33mDense\u001b[0m)                        │ (\u001b[38;5;45mNone\u001b[0m, \u001b[38;5;34m64\u001b[0m)                  │          \u001b[38;5;34m69,696\u001b[0m │\n",
              "├──────────────────────────────────────┼─────────────────────────────┼─────────────────┤\n",
              "│ dense_1 (\u001b[38;5;33mDense\u001b[0m)                      │ (\u001b[38;5;45mNone\u001b[0m, \u001b[38;5;34m32\u001b[0m)                  │           \u001b[38;5;34m2,080\u001b[0m │\n",
              "├──────────────────────────────────────┼─────────────────────────────┼─────────────────┤\n",
              "│ dense_2 (\u001b[38;5;33mDense\u001b[0m)                      │ (\u001b[38;5;45mNone\u001b[0m, \u001b[38;5;34m3\u001b[0m)                   │              \u001b[38;5;34m99\u001b[0m │\n",
              "└──────────────────────────────────────┴─────────────────────────────┴─────────────────┘\n"
            ],
            "text/html": [
              "<pre style=\"white-space:pre;overflow-x:auto;line-height:normal;font-family:Menlo,'DejaVu Sans Mono',consolas,'Courier New',monospace\">┏━━━━━━━━━━━━━━━━━━━━━━━━━━━━━━━━━━━━━━┳━━━━━━━━━━━━━━━━━━━━━━━━━━━━━┳━━━━━━━━━━━━━━━━━┓\n",
              "┃<span style=\"font-weight: bold\"> Layer (type)                         </span>┃<span style=\"font-weight: bold\"> Output Shape                </span>┃<span style=\"font-weight: bold\">         Param # </span>┃\n",
              "┡━━━━━━━━━━━━━━━━━━━━━━━━━━━━━━━━━━━━━━╇━━━━━━━━━━━━━━━━━━━━━━━━━━━━━╇━━━━━━━━━━━━━━━━━┩\n",
              "│ input_layer (<span style=\"color: #0087ff; text-decoration-color: #0087ff\">InputLayer</span>)             │ (<span style=\"color: #00d7ff; text-decoration-color: #00d7ff\">None</span>, <span style=\"color: #00af00; text-decoration-color: #00af00\">1081</span>, <span style=\"color: #00af00; text-decoration-color: #00af00\">1</span>)             │               <span style=\"color: #00af00; text-decoration-color: #00af00\">0</span> │\n",
              "├──────────────────────────────────────┼─────────────────────────────┼─────────────────┤\n",
              "│ conv1d (<span style=\"color: #0087ff; text-decoration-color: #0087ff\">Conv1D</span>)                      │ (<span style=\"color: #00d7ff; text-decoration-color: #00d7ff\">None</span>, <span style=\"color: #00af00; text-decoration-color: #00af00\">541</span>, <span style=\"color: #00af00; text-decoration-color: #00af00\">256</span>)            │           <span style=\"color: #00af00; text-decoration-color: #00af00\">1,024</span> │\n",
              "├──────────────────────────────────────┼─────────────────────────────┼─────────────────┤\n",
              "│ batch_normalization                  │ (<span style=\"color: #00d7ff; text-decoration-color: #00d7ff\">None</span>, <span style=\"color: #00af00; text-decoration-color: #00af00\">541</span>, <span style=\"color: #00af00; text-decoration-color: #00af00\">256</span>)            │           <span style=\"color: #00af00; text-decoration-color: #00af00\">1,024</span> │\n",
              "│ (<span style=\"color: #0087ff; text-decoration-color: #0087ff\">BatchNormalization</span>)                 │                             │                 │\n",
              "├──────────────────────────────────────┼─────────────────────────────┼─────────────────┤\n",
              "│ max_pooling1d (<span style=\"color: #0087ff; text-decoration-color: #0087ff\">MaxPooling1D</span>)         │ (<span style=\"color: #00d7ff; text-decoration-color: #00d7ff\">None</span>, <span style=\"color: #00af00; text-decoration-color: #00af00\">270</span>, <span style=\"color: #00af00; text-decoration-color: #00af00\">256</span>)            │               <span style=\"color: #00af00; text-decoration-color: #00af00\">0</span> │\n",
              "├──────────────────────────────────────┼─────────────────────────────┼─────────────────┤\n",
              "│ dropout (<span style=\"color: #0087ff; text-decoration-color: #0087ff\">Dropout</span>)                    │ (<span style=\"color: #00d7ff; text-decoration-color: #00d7ff\">None</span>, <span style=\"color: #00af00; text-decoration-color: #00af00\">270</span>, <span style=\"color: #00af00; text-decoration-color: #00af00\">256</span>)            │               <span style=\"color: #00af00; text-decoration-color: #00af00\">0</span> │\n",
              "├──────────────────────────────────────┼─────────────────────────────┼─────────────────┤\n",
              "│ conv1d_1 (<span style=\"color: #0087ff; text-decoration-color: #0087ff\">Conv1D</span>)                    │ (<span style=\"color: #00d7ff; text-decoration-color: #00d7ff\">None</span>, <span style=\"color: #00af00; text-decoration-color: #00af00\">135</span>, <span style=\"color: #00af00; text-decoration-color: #00af00\">128</span>)            │          <span style=\"color: #00af00; text-decoration-color: #00af00\">98,432</span> │\n",
              "├──────────────────────────────────────┼─────────────────────────────┼─────────────────┤\n",
              "│ batch_normalization_1                │ (<span style=\"color: #00d7ff; text-decoration-color: #00d7ff\">None</span>, <span style=\"color: #00af00; text-decoration-color: #00af00\">135</span>, <span style=\"color: #00af00; text-decoration-color: #00af00\">128</span>)            │             <span style=\"color: #00af00; text-decoration-color: #00af00\">512</span> │\n",
              "│ (<span style=\"color: #0087ff; text-decoration-color: #0087ff\">BatchNormalization</span>)                 │                             │                 │\n",
              "├──────────────────────────────────────┼─────────────────────────────┼─────────────────┤\n",
              "│ max_pooling1d_1 (<span style=\"color: #0087ff; text-decoration-color: #0087ff\">MaxPooling1D</span>)       │ (<span style=\"color: #00d7ff; text-decoration-color: #00d7ff\">None</span>, <span style=\"color: #00af00; text-decoration-color: #00af00\">67</span>, <span style=\"color: #00af00; text-decoration-color: #00af00\">128</span>)             │               <span style=\"color: #00af00; text-decoration-color: #00af00\">0</span> │\n",
              "├──────────────────────────────────────┼─────────────────────────────┼─────────────────┤\n",
              "│ dropout_1 (<span style=\"color: #0087ff; text-decoration-color: #0087ff\">Dropout</span>)                  │ (<span style=\"color: #00d7ff; text-decoration-color: #00d7ff\">None</span>, <span style=\"color: #00af00; text-decoration-color: #00af00\">67</span>, <span style=\"color: #00af00; text-decoration-color: #00af00\">128</span>)             │               <span style=\"color: #00af00; text-decoration-color: #00af00\">0</span> │\n",
              "├──────────────────────────────────────┼─────────────────────────────┼─────────────────┤\n",
              "│ conv1d_2 (<span style=\"color: #0087ff; text-decoration-color: #0087ff\">Conv1D</span>)                    │ (<span style=\"color: #00d7ff; text-decoration-color: #00d7ff\">None</span>, <span style=\"color: #00af00; text-decoration-color: #00af00\">34</span>, <span style=\"color: #00af00; text-decoration-color: #00af00\">64</span>)              │          <span style=\"color: #00af00; text-decoration-color: #00af00\">24,640</span> │\n",
              "├──────────────────────────────────────┼─────────────────────────────┼─────────────────┤\n",
              "│ batch_normalization_2                │ (<span style=\"color: #00d7ff; text-decoration-color: #00d7ff\">None</span>, <span style=\"color: #00af00; text-decoration-color: #00af00\">34</span>, <span style=\"color: #00af00; text-decoration-color: #00af00\">64</span>)              │             <span style=\"color: #00af00; text-decoration-color: #00af00\">256</span> │\n",
              "│ (<span style=\"color: #0087ff; text-decoration-color: #0087ff\">BatchNormalization</span>)                 │                             │                 │\n",
              "├──────────────────────────────────────┼─────────────────────────────┼─────────────────┤\n",
              "│ max_pooling1d_2 (<span style=\"color: #0087ff; text-decoration-color: #0087ff\">MaxPooling1D</span>)       │ (<span style=\"color: #00d7ff; text-decoration-color: #00d7ff\">None</span>, <span style=\"color: #00af00; text-decoration-color: #00af00\">17</span>, <span style=\"color: #00af00; text-decoration-color: #00af00\">64</span>)              │               <span style=\"color: #00af00; text-decoration-color: #00af00\">0</span> │\n",
              "├──────────────────────────────────────┼─────────────────────────────┼─────────────────┤\n",
              "│ dropout_2 (<span style=\"color: #0087ff; text-decoration-color: #0087ff\">Dropout</span>)                  │ (<span style=\"color: #00d7ff; text-decoration-color: #00d7ff\">None</span>, <span style=\"color: #00af00; text-decoration-color: #00af00\">17</span>, <span style=\"color: #00af00; text-decoration-color: #00af00\">64</span>)              │               <span style=\"color: #00af00; text-decoration-color: #00af00\">0</span> │\n",
              "├──────────────────────────────────────┼─────────────────────────────┼─────────────────┤\n",
              "│ flatten (<span style=\"color: #0087ff; text-decoration-color: #0087ff\">Flatten</span>)                    │ (<span style=\"color: #00d7ff; text-decoration-color: #00d7ff\">None</span>, <span style=\"color: #00af00; text-decoration-color: #00af00\">1088</span>)                │               <span style=\"color: #00af00; text-decoration-color: #00af00\">0</span> │\n",
              "├──────────────────────────────────────┼─────────────────────────────┼─────────────────┤\n",
              "│ dense (<span style=\"color: #0087ff; text-decoration-color: #0087ff\">Dense</span>)                        │ (<span style=\"color: #00d7ff; text-decoration-color: #00d7ff\">None</span>, <span style=\"color: #00af00; text-decoration-color: #00af00\">64</span>)                  │          <span style=\"color: #00af00; text-decoration-color: #00af00\">69,696</span> │\n",
              "├──────────────────────────────────────┼─────────────────────────────┼─────────────────┤\n",
              "│ dense_1 (<span style=\"color: #0087ff; text-decoration-color: #0087ff\">Dense</span>)                      │ (<span style=\"color: #00d7ff; text-decoration-color: #00d7ff\">None</span>, <span style=\"color: #00af00; text-decoration-color: #00af00\">32</span>)                  │           <span style=\"color: #00af00; text-decoration-color: #00af00\">2,080</span> │\n",
              "├──────────────────────────────────────┼─────────────────────────────┼─────────────────┤\n",
              "│ dense_2 (<span style=\"color: #0087ff; text-decoration-color: #0087ff\">Dense</span>)                      │ (<span style=\"color: #00d7ff; text-decoration-color: #00d7ff\">None</span>, <span style=\"color: #00af00; text-decoration-color: #00af00\">3</span>)                   │              <span style=\"color: #00af00; text-decoration-color: #00af00\">99</span> │\n",
              "└──────────────────────────────────────┴─────────────────────────────┴─────────────────┘\n",
              "</pre>\n"
            ]
          },
          "metadata": {}
        },
        {
          "output_type": "display_data",
          "data": {
            "text/plain": [
              "\u001b[1m Total params: \u001b[0m\u001b[38;5;34m197,763\u001b[0m (772.51 KB)\n"
            ],
            "text/html": [
              "<pre style=\"white-space:pre;overflow-x:auto;line-height:normal;font-family:Menlo,'DejaVu Sans Mono',consolas,'Courier New',monospace\"><span style=\"font-weight: bold\"> Total params: </span><span style=\"color: #00af00; text-decoration-color: #00af00\">197,763</span> (772.51 KB)\n",
              "</pre>\n"
            ]
          },
          "metadata": {}
        },
        {
          "output_type": "display_data",
          "data": {
            "text/plain": [
              "\u001b[1m Trainable params: \u001b[0m\u001b[38;5;34m196,867\u001b[0m (769.01 KB)\n"
            ],
            "text/html": [
              "<pre style=\"white-space:pre;overflow-x:auto;line-height:normal;font-family:Menlo,'DejaVu Sans Mono',consolas,'Courier New',monospace\"><span style=\"font-weight: bold\"> Trainable params: </span><span style=\"color: #00af00; text-decoration-color: #00af00\">196,867</span> (769.01 KB)\n",
              "</pre>\n"
            ]
          },
          "metadata": {}
        },
        {
          "output_type": "display_data",
          "data": {
            "text/plain": [
              "\u001b[1m Non-trainable params: \u001b[0m\u001b[38;5;34m896\u001b[0m (3.50 KB)\n"
            ],
            "text/html": [
              "<pre style=\"white-space:pre;overflow-x:auto;line-height:normal;font-family:Menlo,'DejaVu Sans Mono',consolas,'Courier New',monospace\"><span style=\"font-weight: bold\"> Non-trainable params: </span><span style=\"color: #00af00; text-decoration-color: #00af00\">896</span> (3.50 KB)\n",
              "</pre>\n"
            ]
          },
          "metadata": {}
        }
      ],
      "execution_count": 60
    },
    {
      "cell_type": "markdown",
      "source": [
        "- The **1D CNN** model uses EarlyStopping as a callback function, batch size = 64, and number of epochs = 30 to fit the model on the training set:"
      ],
      "metadata": {
        "id": "VvGt9wnPknr2"
      }
    },
    {
      "cell_type": "code",
      "source": [
        "# Training the model\n",
        "es = EarlyStopping(monitor='val_loss', mode='min', verbose=1, patience=10) # Callback Function\n",
        "\n",
        "b_size = 64\n",
        "e_num = 30\n",
        "\n",
        "history = model.fit(\n",
        "X_train, y_train_encoded,\n",
        "batch_size=b_size,\n",
        "epochs=e_num,\n",
        "class_weight=class_weights,\n",
        "verbose = 1,\n",
        "callbacks=es,\n",
        "validation_split=0.1)"
      ],
      "metadata": {
        "colab": {
          "base_uri": "https://localhost:8080/"
        },
        "id": "gNo2zjQjPOOL",
        "outputId": "e8be428f-90b6-4e2e-be87-0196b9c07273",
        "trusted": true,
        "execution": {
          "iopub.status.busy": "2025-03-24T18:51:35.522138Z",
          "iopub.execute_input": "2025-03-24T18:51:35.522435Z",
          "iopub.status.idle": "2025-03-24T18:51:59.517023Z",
          "shell.execute_reply.started": "2025-03-24T18:51:35.522402Z",
          "shell.execute_reply": "2025-03-24T18:51:59.516334Z"
        }
      },
      "outputs": [
        {
          "output_type": "stream",
          "name": "stdout",
          "text": [
            "Epoch 1/30\n",
            "\u001b[1m124/124\u001b[0m \u001b[32m━━━━━━━━━━━━━━━━━━━━\u001b[0m\u001b[37m\u001b[0m \u001b[1m13s\u001b[0m 49ms/step - accuracy: 0.7428 - loss: 0.6139 - val_accuracy: 0.7923 - val_loss: 0.5142\n",
            "Epoch 2/30\n",
            "\u001b[1m124/124\u001b[0m \u001b[32m━━━━━━━━━━━━━━━━━━━━\u001b[0m\u001b[37m\u001b[0m \u001b[1m1s\u001b[0m 9ms/step - accuracy: 0.8467 - loss: 0.3652 - val_accuracy: 0.8910 - val_loss: 0.2690\n",
            "Epoch 3/30\n",
            "\u001b[1m124/124\u001b[0m \u001b[32m━━━━━━━━━━━━━━━━━━━━\u001b[0m\u001b[37m\u001b[0m \u001b[1m1s\u001b[0m 9ms/step - accuracy: 0.8775 - loss: 0.3073 - val_accuracy: 0.8683 - val_loss: 0.2914\n",
            "Epoch 4/30\n",
            "\u001b[1m124/124\u001b[0m \u001b[32m━━━━━━━━━━━━━━━━━━━━\u001b[0m\u001b[37m\u001b[0m \u001b[1m1s\u001b[0m 9ms/step - accuracy: 0.8736 - loss: 0.2878 - val_accuracy: 0.8956 - val_loss: 0.2378\n",
            "Epoch 5/30\n",
            "\u001b[1m124/124\u001b[0m \u001b[32m━━━━━━━━━━━━━━━━━━━━\u001b[0m\u001b[37m\u001b[0m \u001b[1m1s\u001b[0m 9ms/step - accuracy: 0.8986 - loss: 0.2514 - val_accuracy: 0.8570 - val_loss: 0.3656\n",
            "Epoch 6/30\n",
            "\u001b[1m124/124\u001b[0m \u001b[32m━━━━━━━━━━━━━━━━━━━━\u001b[0m\u001b[37m\u001b[0m \u001b[1m1s\u001b[0m 9ms/step - accuracy: 0.8985 - loss: 0.2466 - val_accuracy: 0.8558 - val_loss: 0.3337\n",
            "Epoch 7/30\n",
            "\u001b[1m124/124\u001b[0m \u001b[32m━━━━━━━━━━━━━━━━━━━━\u001b[0m\u001b[37m\u001b[0m \u001b[1m1s\u001b[0m 9ms/step - accuracy: 0.9015 - loss: 0.2287 - val_accuracy: 0.9024 - val_loss: 0.2241\n",
            "Epoch 8/30\n",
            "\u001b[1m124/124\u001b[0m \u001b[32m━━━━━━━━━━━━━━━━━━━━\u001b[0m\u001b[37m\u001b[0m \u001b[1m1s\u001b[0m 9ms/step - accuracy: 0.9192 - loss: 0.1901 - val_accuracy: 0.9081 - val_loss: 0.2152\n",
            "Epoch 9/30\n",
            "\u001b[1m124/124\u001b[0m \u001b[32m━━━━━━━━━━━━━━━━━━━━\u001b[0m\u001b[37m\u001b[0m \u001b[1m1s\u001b[0m 9ms/step - accuracy: 0.9236 - loss: 0.1747 - val_accuracy: 0.8842 - val_loss: 0.2650\n",
            "Epoch 10/30\n",
            "\u001b[1m124/124\u001b[0m \u001b[32m━━━━━━━━━━━━━━━━━━━━\u001b[0m\u001b[37m\u001b[0m \u001b[1m1s\u001b[0m 9ms/step - accuracy: 0.9267 - loss: 0.1717 - val_accuracy: 0.8854 - val_loss: 0.2727\n",
            "Epoch 11/30\n",
            "\u001b[1m124/124\u001b[0m \u001b[32m━━━━━━━━━━━━━━━━━━━━\u001b[0m\u001b[37m\u001b[0m \u001b[1m1s\u001b[0m 9ms/step - accuracy: 0.9340 - loss: 0.1528 - val_accuracy: 0.9058 - val_loss: 0.2346\n",
            "Epoch 12/30\n",
            "\u001b[1m124/124\u001b[0m \u001b[32m━━━━━━━━━━━━━━━━━━━━\u001b[0m\u001b[37m\u001b[0m \u001b[1m1s\u001b[0m 9ms/step - accuracy: 0.9356 - loss: 0.1503 - val_accuracy: 0.9012 - val_loss: 0.2219\n",
            "Epoch 13/30\n",
            "\u001b[1m124/124\u001b[0m \u001b[32m━━━━━━━━━━━━━━━━━━━━\u001b[0m\u001b[37m\u001b[0m \u001b[1m1s\u001b[0m 9ms/step - accuracy: 0.9426 - loss: 0.1313 - val_accuracy: 0.9137 - val_loss: 0.2437\n",
            "Epoch 14/30\n",
            "\u001b[1m124/124\u001b[0m \u001b[32m━━━━━━━━━━━━━━━━━━━━\u001b[0m\u001b[37m\u001b[0m \u001b[1m1s\u001b[0m 9ms/step - accuracy: 0.9477 - loss: 0.1266 - val_accuracy: 0.9024 - val_loss: 0.2523\n",
            "Epoch 15/30\n",
            "\u001b[1m124/124\u001b[0m \u001b[32m━━━━━━━━━━━━━━━━━━━━\u001b[0m\u001b[37m\u001b[0m \u001b[1m1s\u001b[0m 9ms/step - accuracy: 0.9612 - loss: 0.0912 - val_accuracy: 0.9047 - val_loss: 0.2518\n",
            "Epoch 16/30\n",
            "\u001b[1m124/124\u001b[0m \u001b[32m━━━━━━━━━━━━━━━━━━━━\u001b[0m\u001b[37m\u001b[0m \u001b[1m1s\u001b[0m 9ms/step - accuracy: 0.9562 - loss: 0.1145 - val_accuracy: 0.9081 - val_loss: 0.2650\n",
            "Epoch 17/30\n",
            "\u001b[1m124/124\u001b[0m \u001b[32m━━━━━━━━━━━━━━━━━━━━\u001b[0m\u001b[37m\u001b[0m \u001b[1m1s\u001b[0m 9ms/step - accuracy: 0.9601 - loss: 0.0898 - val_accuracy: 0.9035 - val_loss: 0.2827\n",
            "Epoch 18/30\n",
            "\u001b[1m124/124\u001b[0m \u001b[32m━━━━━━━━━━━━━━━━━━━━\u001b[0m\u001b[37m\u001b[0m \u001b[1m1s\u001b[0m 9ms/step - accuracy: 0.9618 - loss: 0.0893 - val_accuracy: 0.8967 - val_loss: 0.3422\n",
            "Epoch 18: early stopping\n"
          ]
        }
      ],
      "execution_count": 61
    },
    {
      "cell_type": "code",
      "source": [
        "y_pred = model.predict(X_test)\n",
        "y_pred_labels = np.argmax(y_pred, axis=1)"
      ],
      "metadata": {
        "id": "lot1lYTqlG_v",
        "colab": {
          "base_uri": "https://localhost:8080/"
        },
        "outputId": "b3b22135-9d0b-4a1e-b1d1-7c562481884f",
        "trusted": true,
        "execution": {
          "iopub.status.busy": "2025-03-24T18:51:59.518047Z",
          "iopub.execute_input": "2025-03-24T18:51:59.518330Z",
          "iopub.status.idle": "2025-03-24T18:52:00.661390Z",
          "shell.execute_reply.started": "2025-03-24T18:51:59.518306Z",
          "shell.execute_reply": "2025-03-24T18:52:00.660648Z"
        }
      },
      "outputs": [
        {
          "output_type": "stream",
          "name": "stdout",
          "text": [
            "\u001b[1m92/92\u001b[0m \u001b[32m━━━━━━━━━━━━━━━━━━━━\u001b[0m\u001b[37m\u001b[0m \u001b[1m1s\u001b[0m 8ms/step\n"
          ]
        }
      ],
      "execution_count": 62
    },
    {
      "cell_type": "code",
      "source": [
        "# Plotting confusion matrix\n",
        "classes = ['Spiral', 'Elliptical', 'Odd']\n",
        "plotting.plot_confusion_matrix(y_test, y_pred_labels, classes=classes, cmap=plt.cm.Purples, normalize=False, x_tick_rot=0)\n",
        "plt.savefig('CM_final2')"
      ],
      "metadata": {
        "colab": {
          "base_uri": "https://localhost:8080/",
          "height": 487
        },
        "id": "IfSyF42ES2oa",
        "outputId": "5efd83cb-cf0e-4c7a-d082-48a83b5bb2e6",
        "trusted": true,
        "execution": {
          "iopub.status.busy": "2025-03-24T18:52:00.662312Z",
          "iopub.execute_input": "2025-03-24T18:52:00.662549Z",
          "iopub.status.idle": "2025-03-24T18:52:00.893887Z",
          "shell.execute_reply.started": "2025-03-24T18:52:00.662531Z",
          "shell.execute_reply": "2025-03-24T18:52:00.892817Z"
        }
      },
      "outputs": [
        {
          "output_type": "display_data",
          "data": {
            "text/plain": [
              "<Figure size 640x480 with 2 Axes>"
            ],
            "image/png": "[encoded data removed]"
          },
          "metadata": {}
        }
      ],
      "execution_count": 64
    },
    {
      "cell_type": "code",
      "source": [
        "# Plotting ROC curve\n",
        "# Plotting ROC curve\n",
        "\n",
        "# -----------------------------------------------------------------------------\n",
        "# Note: There was a major issue in the original code! A previous model was\n",
        "# called in place of a new one.\n",
        "#\n",
        "# y_score = gz2_training_model.predict_proba(X_test)\n",
        "# -----------------------------------------------------------------------------\n",
        "\n",
        "# Here is the fix:\n",
        "y_score = y_pred  # Use predicted probabilities for ROC curve\n",
        "y_test_bin = label_binarize(y_test, classes=list(range(3)))  # Binarize the true labels"
      ],
      "metadata": {
        "id": "mCy3bR6yY7No",
        "trusted": true,
        "execution": {
          "iopub.status.busy": "2025-03-24T18:52:00.894960Z",
          "iopub.execute_input": "2025-03-24T18:52:00.895336Z",
          "iopub.status.idle": "2025-03-24T18:52:00.900607Z",
          "shell.execute_reply.started": "2025-03-24T18:52:00.895299Z",
          "shell.execute_reply": "2025-03-24T18:52:00.899683Z"
        }
      },
      "outputs": [],
      "execution_count": 65
    },
    {
      "cell_type": "code",
      "source": [
        "fpr = dict()\n",
        "tpr = dict()\n",
        "roc_auc = dict()\n",
        "\n",
        "for i in range(3):\n",
        "    fpr[i], tpr[i], _ = roc_curve(y_test_bin[:, i], y_score[:, i])\n",
        "    roc_auc[i] = auc(fpr[i], tpr[i])\n",
        "\n",
        "class_names = ['Spiral', 'Elliptical', 'Odd Objects']\n",
        "\n",
        "fig, ax = plt.subplots(figsize=(6, 6), dpi=100)\n",
        "\n",
        "mean_fpr = np.linspace(-float(1e-6), 1, int(1e7))\n",
        "\n",
        "\n",
        "# Save ROC curves\n",
        "model_ii_roc_curves = []\n",
        "\n",
        "for i in range(3):  # Iterate through each class\n",
        "    tprs_interp = []\n",
        "    for j in range(len(fpr)):\n",
        "        tprs_interp.append(np.interp(mean_fpr, fpr[i], tpr[i]))\n",
        "\n",
        "    mean_tpr = np.mean(tprs_interp, axis=0)\n",
        "    mean_auc = np.trapz(mean_tpr, mean_fpr)\n",
        "\n",
        "    # Save curves to list\n",
        "    model_ii_roc_curves.append((mean_fpr, mean_tpr, mean_auc))\n",
        "\n",
        "    ax.plot(mean_fpr, mean_tpr, label=f'{class_names[i]} (AUC = {mean_auc:.3f})', lw=2)\n",
        "\n",
        "ax.plot([0, 1], [0, 1], linestyle='--', color='black', label='Random Guess')\n",
        "ax.set_xlabel('False Positive Rate')\n",
        "ax.set_ylabel('True Positive Rate')\n",
        "ax.set_title(f'Receiver Operating Characteristic (ROC) Curve')\n",
        "ax.legend(loc='lower right')\n",
        "plt.tight_layout()\n",
        "plt.show()"
      ],
      "metadata": {
        "colab": {
          "base_uri": "https://localhost:8080/",
          "height": 607
        },
        "id": "B5jwtdxQaAN6",
        "outputId": "f4483783-ae9f-4f32-d332-90a49e89de97",
        "trusted": true,
        "execution": {
          "iopub.status.busy": "2025-03-24T18:52:00.901467Z",
          "iopub.execute_input": "2025-03-24T18:52:00.901726Z",
          "iopub.status.idle": "2025-03-24T18:52:01.508012Z",
          "shell.execute_reply.started": "2025-03-24T18:52:00.901681Z",
          "shell.execute_reply": "2025-03-24T18:52:01.507027Z"
        }
      },
      "outputs": [
        {
          "output_type": "display_data",
          "data": {
            "text/plain": [
              "<Figure size 600x600 with 1 Axes>"
            ],
            "image/png": "[encoded data removed]"
          },
          "metadata": {}
        }
      ],
      "execution_count": 66
    },
    {
      "cell_type": "code",
      "source": [
        "# Save the ROC curves of this model to the roc_curves dictionary\n",
        "roc_curves['Model II'] = model_ii_roc_curves"
      ],
      "metadata": {
        "id": "PMb-fGV6VI90",
        "trusted": true,
        "execution": {
          "iopub.status.busy": "2025-03-24T18:52:01.508848Z",
          "iopub.execute_input": "2025-03-24T18:52:01.509131Z",
          "iopub.status.idle": "2025-03-24T18:52:01.512501Z",
          "shell.execute_reply.started": "2025-03-24T18:52:01.509094Z",
          "shell.execute_reply": "2025-03-24T18:52:01.511651Z"
        }
      },
      "outputs": [],
      "execution_count": 67
    },
    {
      "cell_type": "code",
      "source": [
        "# Performance\n",
        "# -----------------------------------------------------------------------------\n",
        "# Note: There was a bug in the original code. They use y_pred instead of\n",
        "# y_pred_labels.\n",
        "# -----------------------------------------------------------------------------\n",
        "\n",
        "recall = recall_score(y_test, y_pred_labels, average= 'weighted')\n",
        "precision = precision_score(y_test, y_pred_labels, average= 'weighted')\n",
        "f1 = f1_score(y_test, y_pred_labels, average= 'weighted')\n",
        "accuracy = accuracy_score(y_test, y_pred_labels)\n",
        "\n",
        "# Calculating the True Skill Score (TSS) for every class\n",
        "\n",
        "# We need the confusion matrix for this\n",
        "cm = confusion_matrix(y_test, y_pred_labels)\n",
        "\n",
        "tss_per_class = {}\n",
        "\n",
        "for i, class_name in enumerate(class_names):\n",
        "    tp = cm[i, i]  # True Positives for class i\n",
        "    fn = np.sum(cm[i, :]) - tp  # False Negatives: Sum of row minus TP\n",
        "    fp = np.sum(cm[:, i]) - tp  # False Positives: Sum of column minus TP\n",
        "    tn = np.sum(cm) - (tp + fn + fp)  # True Negatives: All other elements\n",
        "\n",
        "    tss = (tp / (tp + fn)) - (fp / (fp + tn))  # True Skill Score for class i\n",
        "    tss_per_class[class_name] = tss\n",
        "\n",
        "    print(\"TSS for\", f\"'{class_name}'\", \"class:\", tss_per_class[class_name])"
      ],
      "metadata": {
        "colab": {
          "base_uri": "https://localhost:8080/"
        },
        "id": "yLcuH9Nlo3Sq",
        "outputId": "4c57c31b-8fad-477c-d729-3ff5bdcba379",
        "trusted": true,
        "execution": {
          "iopub.status.busy": "2025-03-24T18:52:01.513364Z",
          "iopub.execute_input": "2025-03-24T18:52:01.513575Z",
          "iopub.status.idle": "2025-03-24T18:52:01.536974Z",
          "shell.execute_reply.started": "2025-03-24T18:52:01.513545Z",
          "shell.execute_reply": "2025-03-24T18:52:01.536158Z"
        }
      },
      "outputs": [
        {
          "output_type": "stream",
          "name": "stdout",
          "text": [
            "TSS for 'Spiral' class: 0.7972276814960396\n",
            "TSS for 'Elliptical' class: 0.9724897912138576\n",
            "TSS for 'Odd Objects' class: 0.671074973876698\n"
          ]
        }
      ],
      "execution_count": 68
    },
    {
      "cell_type": "code",
      "source": [
        "print(\"Recall:\", recall)\n",
        "print(\"Precision:\", precision)\n",
        "print(\"F1_score:\", f1)\n",
        "print(\"Accuracy:\", accuracy)"
      ],
      "metadata": {
        "colab": {
          "base_uri": "https://localhost:8080/"
        },
        "id": "y8ccz_uJpGvN",
        "outputId": "6f2035f1-00a2-4c4e-c56b-031fa3c31e29",
        "trusted": true,
        "execution": {
          "iopub.status.busy": "2025-03-24T18:52:01.537896Z",
          "iopub.execute_input": "2025-03-24T18:52:01.538095Z",
          "iopub.status.idle": "2025-03-24T18:52:01.543633Z",
          "shell.execute_reply.started": "2025-03-24T18:52:01.538078Z",
          "shell.execute_reply": "2025-03-24T18:52:01.542874Z"
        }
      },
      "outputs": [
        {
          "output_type": "stream",
          "name": "stdout",
          "text": [
            "Recall: 0.8862397820163488\n",
            "Precision: 0.9039194409457624\n",
            "F1_score: 0.8917315164152382\n",
            "Accuracy: 0.8862397820163488\n"
          ]
        }
      ],
      "execution_count": 69
    },
    {
      "cell_type": "markdown",
      "source": [
        "## **Models III, IV, and V**: Three classifier models based on the original images"
      ],
      "metadata": {
        "id": "kC2OUNC3pTpH"
      }
    },
    {
      "cell_type": "markdown",
      "source": [
        "For these models, a Vision Transformer was used as a data augmentation tool on the Galaxy and Non-Galaxy images.\n",
        "\n",
        "*Note: The additional dependencies needed for these models (like Torch) have already been imported at the beginning of this notebook.*"
      ],
      "metadata": {
        "id": "PVx6pK__pfz3"
      }
    },
    {
      "cell_type": "markdown",
      "source": [
        "To read the images of each class and convert to Pillow images we used the following function (Ghaderi et al., 2025):"
      ],
      "metadata": {
        "id": "kvwt8FoArmTQ"
      }
    },
    {
      "cell_type": "code",
      "source": [
        "def load_galaxy_images(data_dir, target_size):\n",
        "        \"\"\"\n",
        "        Loads, resizes, and processes all JPG images from the specified directory.\n",
        "\n",
        "        Parameters:\n",
        "        data_dir (str): The directory containing the JPG images to be processed.\n",
        "        target_size (tuple): The target size for resizing the images, specified as (width, height).\n",
        "\n",
        "        Returns:\n",
        "        list: A list of PIL Image objects, each representing a resized and processed image.\n",
        "\n",
        "        The function performs the following steps:\n",
        "        1. Lists all JPG image files in the specified directory.\n",
        "        2. Reads each image using OpenCV.\n",
        "        3. Resizes each image to the specified target size.\n",
        "        4. Scales the pixel values and converts the image to a format compatible with PIL.\n",
        "        5. Converts each resized image to a PIL Image object.\n",
        "        6. Appends each PIL Image object to a list.\n",
        "        7. Returns the list of PIL Image objects.\n",
        "        \"\"\"\n",
        "\n",
        "        all_images = []\n",
        "\n",
        "        file_path = [os.path.join(data_dir, filename) for filename in os.listdir(data_dir) if filename.endswith('.jpg')]\n",
        "\n",
        "        for img in tqdm(file_path, desc=\"Processing images\", unit=\"image\"):\n",
        "            image = cv2.imread(img)\n",
        "            resized_images=cv2.resize(image, target_size)\n",
        "            resized_images = (resized_images * 255).astype(np.uint8)\n",
        "            pil_images = Image.fromarray(resized_images)\n",
        "            all_images.append(pil_images)\n",
        "\n",
        "        return all_images"
      ],
      "metadata": {
        "id": "lx_1-WqjpJU9",
        "trusted": true,
        "execution": {
          "iopub.status.busy": "2025-03-24T18:52:01.544473Z",
          "iopub.execute_input": "2025-03-24T18:52:01.544813Z",
          "iopub.status.idle": "2025-03-24T18:52:01.555922Z",
          "shell.execute_reply.started": "2025-03-24T18:52:01.544775Z",
          "shell.execute_reply": "2025-03-24T18:52:01.555201Z"
        }
      },
      "outputs": [],
      "execution_count": 70
    },
    {
      "cell_type": "markdown",
      "source": [
        "The directoies of Spiral, Elliptical, Odd objectss images:\n",
        "\n",
        "> Spiral: /repository/Data/galaxy/image/cropped_spiral\n",
        ">\n",
        "> Elliptical: /repository/Data/galaxy/image/cropped_elliptical\n",
        ">\n",
        "> Odd Objects: /repository/Data/galaxy/image/cropped_odd"
      ],
      "metadata": {
        "id": "w4J-UXZssHCc"
      }
    },
    {
      "cell_type": "code",
      "source": [
        "# WARNING: This cell takes a while to run!\n",
        "sp_dir = '/content/drive/Shared drives/DLP Project/Project/Data/galaxy/images/cropped_spiral'\n",
        "el_dir = '/content/drive/Shared drives/DLP Project/Project/Data/galaxy/images/cropped_elliptical'\n",
        "odd_dir = '/content/drive/Shared drives/DLP Project/Project/Data/galaxy/images/cropped_odd'\n",
        "\n",
        "image_size = 200\n",
        "\n",
        "sp_img = load_galaxy_images(sp_dir, target_size=(image_size,image_size))\n",
        "el_img = load_galaxy_images(el_dir, target_size=(image_size,image_size))\n",
        "odd_img = load_galaxy_images(odd_dir, target_size=(image_size,image_size))"
      ],
      "metadata": {
        "id": "7Zj3bPUxsFEs",
        "trusted": true,
        "execution": {
          "iopub.status.busy": "2025-03-24T18:52:01.556677Z",
          "iopub.execute_input": "2025-03-24T18:52:01.556997Z",
          "iopub.status.idle": "2025-03-24T18:53:03.273958Z",
          "shell.execute_reply.started": "2025-03-24T18:52:01.556963Z",
          "shell.execute_reply": "2025-03-24T18:53:03.273065Z"
        },
        "colab": {
          "base_uri": "https://localhost:8080/"
        },
        "outputId": "f9b2f0d0-38ef-4b1c-910c-b02a9b141d12"
      },
      "outputs": [
        {
          "output_type": "stream",
          "name": "stderr",
          "text": [
            "Processing images: 100%|██████████| 6139/6139 [04:23<00:00, 23.29image/s] \n",
            "Processing images: 100%|██████████| 4077/4077 [02:15<00:00, 30.15image/s] \n",
            "Processing images: 100%|██████████| 1528/1528 [00:56<00:00, 27.00image/s] \n"
          ]
        }
      ],
      "execution_count": 71
    },
    {
      "cell_type": "code",
      "source": [
        "# Combining the data\n",
        "\n",
        "# -----------------------------------------------------------------------------\n",
        "# Note: There was a bug in the original code.\n",
        "#\n",
        "# all_data = np.concatenate([sp_img, el_img, odd_img])\n",
        "# -----------------------------------------------------------------------------\n",
        "\n",
        "# Here is the fix:\n",
        "all_data = sp_img + el_img + odd_img\n",
        "np.shape(all_data)"
      ],
      "metadata": {
        "id": "4CtcrsH3Kojc",
        "colab": {
          "base_uri": "https://localhost:8080/"
        },
        "outputId": "9c7bd03a-f033-4037-fbb0-8746b316bb1c",
        "trusted": true,
        "execution": {
          "iopub.status.busy": "2025-03-24T18:53:03.285739Z",
          "iopub.execute_input": "2025-03-24T18:53:03.286046Z",
          "iopub.status.idle": "2025-03-24T18:53:03.955410Z",
          "shell.execute_reply.started": "2025-03-24T18:53:03.286015Z",
          "shell.execute_reply": "2025-03-24T18:53:03.954637Z"
        }
      },
      "outputs": [
        {
          "output_type": "execute_result",
          "data": {
            "text/plain": [
              "(11744, 200, 200, 3)"
            ]
          },
          "metadata": {},
          "execution_count": 72
        }
      ],
      "execution_count": 72
    },
    {
      "cell_type": "code",
      "source": [
        "# Labels\n",
        "label_s = [0] * len(sp_img)\n",
        "label_e = [1] * len(el_img)\n",
        "label_o = [2] * len(odd_img)\n",
        "\n",
        "all_labels = label_s + label_e + label_o\n",
        "len(all_labels)"
      ],
      "metadata": {
        "id": "cJYTmcN-U2iA",
        "colab": {
          "base_uri": "https://localhost:8080/"
        },
        "outputId": "3e463cde-25a0-4b36-ed62-6e5b02167066",
        "trusted": true,
        "execution": {
          "iopub.status.busy": "2025-03-24T18:53:03.956166Z",
          "iopub.execute_input": "2025-03-24T18:53:03.956380Z",
          "iopub.status.idle": "2025-03-24T18:53:03.962219Z",
          "shell.execute_reply.started": "2025-03-24T18:53:03.956362Z",
          "shell.execute_reply": "2025-03-24T18:53:03.961086Z"
        }
      },
      "outputs": [
        {
          "output_type": "execute_result",
          "data": {
            "text/plain": [
              "11744"
            ]
          },
          "metadata": {},
          "execution_count": 73
        }
      ],
      "execution_count": 73
    },
    {
      "cell_type": "markdown",
      "source": [
        "We define the **vision transformer** for both training and testing data sets:"
      ],
      "metadata": {
        "id": "qeeri08Hs6HH"
      }
    },
    {
      "cell_type": "code",
      "source": [
        "# transforms for training data\n",
        "train_transform = transforms.Compose([transforms.CenterCrop(image_size),\n",
        "                                      transforms.RandomRotation(90),\n",
        "                                      transforms.RandomHorizontalFlip(),\n",
        "                                      transforms.RandomVerticalFlip(),\n",
        "                                      transforms.RandomResizedCrop(image_size, scale=(0.8, 1.0), ratio=(0.99, 1.01)),\n",
        "                                      transforms.ToTensor(),\n",
        "                                      transforms.Normalize([0.485, 0.456, 0.406], [0.229, 0.224, 0.225])\n",
        "                                      ])\n",
        "\n",
        "\n",
        "# transforms for test data\n",
        "test_transform = transforms.Compose([transforms.CenterCrop(image_size),\n",
        "                                      transforms.ToTensor(),\n",
        "                                      transforms.Normalize([0.485, 0.456, 0.406], [0.229, 0.224, 0.225])\n",
        "                                      ])"
      ],
      "metadata": {
        "id": "tNjV0REWs63q",
        "trusted": true,
        "execution": {
          "iopub.status.busy": "2025-03-24T18:53:03.963130Z",
          "iopub.execute_input": "2025-03-24T18:53:03.963434Z",
          "iopub.status.idle": "2025-03-24T18:53:03.975303Z",
          "shell.execute_reply.started": "2025-03-24T18:53:03.963402Z",
          "shell.execute_reply": "2025-03-24T18:53:03.974529Z"
        }
      },
      "outputs": [],
      "execution_count": 74
    },
    {
      "cell_type": "markdown",
      "source": [
        "### **Model III: CNN + Vision Transformer + Original Images**"
      ],
      "metadata": {
        "id": "ODKJskUHtL3r"
      }
    },
    {
      "cell_type": "code",
      "source": [
        "# Splitting into train and test sets\n",
        "X_train, X_test, y_train, y_test, train_indices, test_indices = train_test_split(all_data, all_labels, np.arange(len(all_labels)),\n",
        "                                                                                 test_size=0.25, shuffle=True, random_state=50)\n",
        "\n",
        "y_train_encoded = to_categorical(y_train, num_classes=3)"
      ],
      "metadata": {
        "id": "9QfZhmHSKtcv",
        "trusted": true,
        "execution": {
          "iopub.status.busy": "2025-03-24T18:53:03.976001Z",
          "iopub.execute_input": "2025-03-24T18:53:03.976189Z",
          "iopub.status.idle": "2025-03-24T18:53:03.992367Z",
          "shell.execute_reply.started": "2025-03-24T18:53:03.976170Z",
          "shell.execute_reply": "2025-03-24T18:53:03.991596Z"
        }
      },
      "outputs": [],
      "execution_count": 75
    },
    {
      "cell_type": "code",
      "source": [
        "# Transformer for training data\n",
        "transformed_X_train=[]\n",
        "for i in range(len(X_train)):\n",
        "  transformed_train_images = train_transform(X_train[i])\n",
        "  new_image = np.transpose(transformed_train_images, (1, 2, 0))\n",
        "  transformed_X_train.append(new_image)\n",
        "\n",
        "# Transformer for testing data\n",
        "transformed_X_test=[]\n",
        "for j in range(len(X_test)):\n",
        "  transformed_test_images = test_transform(X_test[j])\n",
        "  new_images = np.transpose(transformed_test_images, (1, 2, 0))\n",
        "  transformed_X_test.append(new_images)"
      ],
      "metadata": {
        "id": "kwe_DxWSuHJo",
        "trusted": true,
        "execution": {
          "iopub.status.busy": "2025-03-24T18:53:03.993071Z",
          "iopub.execute_input": "2025-03-24T18:53:03.993337Z",
          "iopub.status.idle": "2025-03-24T18:53:16.045436Z",
          "shell.execute_reply.started": "2025-03-24T18:53:03.993316Z",
          "shell.execute_reply": "2025-03-24T18:53:16.044386Z"
        }
      },
      "outputs": [],
      "execution_count": 76
    },
    {
      "cell_type": "code",
      "source": [
        "# Defining the class weights to account for class imbalance\n",
        "class_weights = {0: len(all_data) / (3*len(sp_img)), 1: len(all_data) / (3*len(el_img)), 2: len(all_data) / (3*len(odd_img))}"
      ],
      "metadata": {
        "id": "nsHi1_BAuJu5",
        "trusted": true,
        "execution": {
          "iopub.status.busy": "2025-03-24T18:53:16.046480Z",
          "iopub.execute_input": "2025-03-24T18:53:16.046884Z",
          "iopub.status.idle": "2025-03-24T18:53:16.051755Z",
          "shell.execute_reply.started": "2025-03-24T18:53:16.046841Z",
          "shell.execute_reply": "2025-03-24T18:53:16.050970Z"
        }
      },
      "outputs": [],
      "execution_count": 77
    },
    {
      "cell_type": "code",
      "source": [
        "# Building the model\n",
        "\n",
        "# input\n",
        "x = Input(shape=(image_size,image_size,3))\n",
        "\n",
        "#hidden layers\n",
        "c0 = Conv2D(256, kernel_size=(3,3), strides=(1,1), padding=\"same\")(x)\n",
        "b0 = BatchNormalization()(c0)\n",
        "m0 = MaxPooling2D(pool_size=(2, 2))(b0)\n",
        "d0 = Dropout(0.1)(m0)\n",
        "\n",
        "c1 = Conv2D(128, kernel_size=(3,3), strides=(1,1), padding=\"same\")(m0)\n",
        "b1 = BatchNormalization()(c1)\n",
        "m1 = MaxPooling2D(pool_size=(2, 2))(b1)\n",
        "d1 = Dropout(0.1)(m1)\n",
        "\n",
        "c2 = Conv2D(64, kernel_size=(3,3), strides=(1,1), padding=\"same\")(m1)\n",
        "b2 = BatchNormalization()(c2)\n",
        "m2 = MaxPooling2D(pool_size=(2, 2))(b2)\n",
        "d2 = Dropout(0.1)(m2)\n",
        "\n",
        "f = Flatten()(m2)\n",
        "\n",
        "de0 = Dense(64, activation='relu')(f)\n",
        "de1 = Dense(32, activation='relu')(de0)\n",
        "de2 = Dense(3, activation='softmax')(de1)\n",
        "\n",
        "model = Model(inputs=x, outputs=de2, name=\"cnn_transformer_galaxy_nonegalaxy\")\n",
        "loss = tf.keras.losses.CategoricalCrossentropy()\n",
        "optimizer = tf.keras.optimizers.Adam()\n",
        "model.compile(loss=loss, optimizer=optimizer, metrics=['accuracy'])\n",
        "model.summary()"
      ],
      "metadata": {
        "id": "xCN3-zkluWjC",
        "colab": {
          "base_uri": "https://localhost:8080/",
          "height": 611
        },
        "outputId": "de8019d9-47d8-4586-bcd7-9b0a39e12b84",
        "trusted": true,
        "execution": {
          "iopub.status.busy": "2025-03-24T18:53:16.052572Z",
          "iopub.execute_input": "2025-03-24T18:53:16.052855Z",
          "iopub.status.idle": "2025-03-24T18:53:16.163827Z",
          "shell.execute_reply.started": "2025-03-24T18:53:16.052830Z",
          "shell.execute_reply": "2025-03-24T18:53:16.163120Z"
        }
      },
      "outputs": [
        {
          "output_type": "display_data",
          "data": {
            "text/plain": [
              "\u001b[1mModel: \"cnn_transformer_galaxy_nonegalaxy\"\u001b[0m\n"
            ],
            "text/html": [
              "<pre style=\"white-space:pre;overflow-x:auto;line-height:normal;font-family:Menlo,'DejaVu Sans Mono',consolas,'Courier New',monospace\"><span style=\"font-weight: bold\">Model: \"cnn_transformer_galaxy_nonegalaxy\"</span>\n",
              "</pre>\n"
            ]
          },
          "metadata": {}
        },
        {
          "output_type": "display_data",
          "data": {
            "text/plain": [
              "┏━━━━━━━━━━━━━━━━━━━━━━━━━━━━━━━━━━━━━━┳━━━━━━━━━━━━━━━━━━━━━━━━━━━━━┳━━━━━━━━━━━━━━━━━┓\n",
              "┃\u001b[1m \u001b[0m\u001b[1mLayer (type)                        \u001b[0m\u001b[1m \u001b[0m┃\u001b[1m \u001b[0m\u001b[1mOutput Shape               \u001b[0m\u001b[1m \u001b[0m┃\u001b[1m \u001b[0m\u001b[1m        Param #\u001b[0m\u001b[1m \u001b[0m┃\n",
              "┡━━━━━━━━━━━━━━━━━━━━━━━━━━━━━━━━━━━━━━╇━━━━━━━━━━━━━━━━━━━━━━━━━━━━━╇━━━━━━━━━━━━━━━━━┩\n",
              "│ input_layer_1 (\u001b[38;5;33mInputLayer\u001b[0m)           │ (\u001b[38;5;45mNone\u001b[0m, \u001b[38;5;34m200\u001b[0m, \u001b[38;5;34m200\u001b[0m, \u001b[38;5;34m3\u001b[0m)         │               \u001b[38;5;34m0\u001b[0m │\n",
              "├──────────────────────────────────────┼─────────────────────────────┼─────────────────┤\n",
              "│ conv2d (\u001b[38;5;33mConv2D\u001b[0m)                      │ (\u001b[38;5;45mNone\u001b[0m, \u001b[38;5;34m200\u001b[0m, \u001b[38;5;34m200\u001b[0m, \u001b[38;5;34m256\u001b[0m)       │           \u001b[38;5;34m7,168\u001b[0m │\n",
              "├──────────────────────────────────────┼─────────────────────────────┼─────────────────┤\n",
              "│ batch_normalization_3                │ (\u001b[38;5;45mNone\u001b[0m, \u001b[38;5;34m200\u001b[0m, \u001b[38;5;34m200\u001b[0m, \u001b[38;5;34m256\u001b[0m)       │           \u001b[38;5;34m1,024\u001b[0m │\n",
              "│ (\u001b[38;5;33mBatchNormalization\u001b[0m)                 │                             │                 │\n",
              "├──────────────────────────────────────┼─────────────────────────────┼─────────────────┤\n",
              "│ max_pooling2d (\u001b[38;5;33mMaxPooling2D\u001b[0m)         │ (\u001b[38;5;45mNone\u001b[0m, \u001b[38;5;34m100\u001b[0m, \u001b[38;5;34m100\u001b[0m, \u001b[38;5;34m256\u001b[0m)       │               \u001b[38;5;34m0\u001b[0m │\n",
              "├──────────────────────────────────────┼─────────────────────────────┼─────────────────┤\n",
              "│ conv2d_1 (\u001b[38;5;33mConv2D\u001b[0m)                    │ (\u001b[38;5;45mNone\u001b[0m, \u001b[38;5;34m100\u001b[0m, \u001b[38;5;34m100\u001b[0m, \u001b[38;5;34m128\u001b[0m)       │         \u001b[38;5;34m295,040\u001b[0m │\n",
              "├──────────────────────────────────────┼─────────────────────────────┼─────────────────┤\n",
              "│ batch_normalization_4                │ (\u001b[38;5;45mNone\u001b[0m, \u001b[38;5;34m100\u001b[0m, \u001b[38;5;34m100\u001b[0m, \u001b[38;5;34m128\u001b[0m)       │             \u001b[38;5;34m512\u001b[0m │\n",
              "│ (\u001b[38;5;33mBatchNormalization\u001b[0m)                 │                             │                 │\n",
              "├──────────────────────────────────────┼─────────────────────────────┼─────────────────┤\n",
              "│ max_pooling2d_1 (\u001b[38;5;33mMaxPooling2D\u001b[0m)       │ (\u001b[38;5;45mNone\u001b[0m, \u001b[38;5;34m50\u001b[0m, \u001b[38;5;34m50\u001b[0m, \u001b[38;5;34m128\u001b[0m)         │               \u001b[38;5;34m0\u001b[0m │\n",
              "├──────────────────────────────────────┼─────────────────────────────┼─────────────────┤\n",
              "│ conv2d_2 (\u001b[38;5;33mConv2D\u001b[0m)                    │ (\u001b[38;5;45mNone\u001b[0m, \u001b[38;5;34m50\u001b[0m, \u001b[38;5;34m50\u001b[0m, \u001b[38;5;34m64\u001b[0m)          │          \u001b[38;5;34m73,792\u001b[0m │\n",
              "├──────────────────────────────────────┼─────────────────────────────┼─────────────────┤\n",
              "│ batch_normalization_5                │ (\u001b[38;5;45mNone\u001b[0m, \u001b[38;5;34m50\u001b[0m, \u001b[38;5;34m50\u001b[0m, \u001b[38;5;34m64\u001b[0m)          │             \u001b[38;5;34m256\u001b[0m │\n",
              "│ (\u001b[38;5;33mBatchNormalization\u001b[0m)                 │                             │                 │\n",
              "├──────────────────────────────────────┼─────────────────────────────┼─────────────────┤\n",
              "│ max_pooling2d_2 (\u001b[38;5;33mMaxPooling2D\u001b[0m)       │ (\u001b[38;5;45mNone\u001b[0m, \u001b[38;5;34m25\u001b[0m, \u001b[38;5;34m25\u001b[0m, \u001b[38;5;34m64\u001b[0m)          │               \u001b[38;5;34m0\u001b[0m │\n",
              "├──────────────────────────────────────┼─────────────────────────────┼─────────────────┤\n",
              "│ flatten_1 (\u001b[38;5;33mFlatten\u001b[0m)                  │ (\u001b[38;5;45mNone\u001b[0m, \u001b[38;5;34m40000\u001b[0m)               │               \u001b[38;5;34m0\u001b[0m │\n",
              "├──────────────────────────────────────┼─────────────────────────────┼─────────────────┤\n",
              "│ dense_3 (\u001b[38;5;33mDense\u001b[0m)                      │ (\u001b[38;5;45mNone\u001b[0m, \u001b[38;5;34m64\u001b[0m)                  │       \u001b[38;5;34m2,560,064\u001b[0m │\n",
              "├──────────────────────────────────────┼─────────────────────────────┼─────────────────┤\n",
              "│ dense_4 (\u001b[38;5;33mDense\u001b[0m)                      │ (\u001b[38;5;45mNone\u001b[0m, \u001b[38;5;34m32\u001b[0m)                  │           \u001b[38;5;34m2,080\u001b[0m │\n",
              "├──────────────────────────────────────┼─────────────────────────────┼─────────────────┤\n",
              "│ dense_5 (\u001b[38;5;33mDense\u001b[0m)                      │ (\u001b[38;5;45mNone\u001b[0m, \u001b[38;5;34m3\u001b[0m)                   │              \u001b[38;5;34m99\u001b[0m │\n",
              "└──────────────────────────────────────┴─────────────────────────────┴─────────────────┘\n"
            ],
            "text/html": [
              "<pre style=\"white-space:pre;overflow-x:auto;line-height:normal;font-family:Menlo,'DejaVu Sans Mono',consolas,'Courier New',monospace\">┏━━━━━━━━━━━━━━━━━━━━━━━━━━━━━━━━━━━━━━┳━━━━━━━━━━━━━━━━━━━━━━━━━━━━━┳━━━━━━━━━━━━━━━━━┓\n",
              "┃<span style=\"font-weight: bold\"> Layer (type)                         </span>┃<span style=\"font-weight: bold\"> Output Shape                </span>┃<span style=\"font-weight: bold\">         Param # </span>┃\n",
              "┡━━━━━━━━━━━━━━━━━━━━━━━━━━━━━━━━━━━━━━╇━━━━━━━━━━━━━━━━━━━━━━━━━━━━━╇━━━━━━━━━━━━━━━━━┩\n",
              "│ input_layer_1 (<span style=\"color: #0087ff; text-decoration-color: #0087ff\">InputLayer</span>)           │ (<span style=\"color: #00d7ff; text-decoration-color: #00d7ff\">None</span>, <span style=\"color: #00af00; text-decoration-color: #00af00\">200</span>, <span style=\"color: #00af00; text-decoration-color: #00af00\">200</span>, <span style=\"color: #00af00; text-decoration-color: #00af00\">3</span>)         │               <span style=\"color: #00af00; text-decoration-color: #00af00\">0</span> │\n",
              "├──────────────────────────────────────┼─────────────────────────────┼─────────────────┤\n",
              "│ conv2d (<span style=\"color: #0087ff; text-decoration-color: #0087ff\">Conv2D</span>)                      │ (<span style=\"color: #00d7ff; text-decoration-color: #00d7ff\">None</span>, <span style=\"color: #00af00; text-decoration-color: #00af00\">200</span>, <span style=\"color: #00af00; text-decoration-color: #00af00\">200</span>, <span style=\"color: #00af00; text-decoration-color: #00af00\">256</span>)       │           <span style=\"color: #00af00; text-decoration-color: #00af00\">7,168</span> │\n",
              "├──────────────────────────────────────┼─────────────────────────────┼─────────────────┤\n",
              "│ batch_normalization_3                │ (<span style=\"color: #00d7ff; text-decoration-color: #00d7ff\">None</span>, <span style=\"color: #00af00; text-decoration-color: #00af00\">200</span>, <span style=\"color: #00af00; text-decoration-color: #00af00\">200</span>, <span style=\"color: #00af00; text-decoration-color: #00af00\">256</span>)       │           <span style=\"color: #00af00; text-decoration-color: #00af00\">1,024</span> │\n",
              "│ (<span style=\"color: #0087ff; text-decoration-color: #0087ff\">BatchNormalization</span>)                 │                             │                 │\n",
              "├──────────────────────────────────────┼─────────────────────────────┼─────────────────┤\n",
              "│ max_pooling2d (<span style=\"color: #0087ff; text-decoration-color: #0087ff\">MaxPooling2D</span>)         │ (<span style=\"color: #00d7ff; text-decoration-color: #00d7ff\">None</span>, <span style=\"color: #00af00; text-decoration-color: #00af00\">100</span>, <span style=\"color: #00af00; text-decoration-color: #00af00\">100</span>, <span style=\"color: #00af00; text-decoration-color: #00af00\">256</span>)       │               <span style=\"color: #00af00; text-decoration-color: #00af00\">0</span> │\n",
              "├──────────────────────────────────────┼─────────────────────────────┼─────────────────┤\n",
              "│ conv2d_1 (<span style=\"color: #0087ff; text-decoration-color: #0087ff\">Conv2D</span>)                    │ (<span style=\"color: #00d7ff; text-decoration-color: #00d7ff\">None</span>, <span style=\"color: #00af00; text-decoration-color: #00af00\">100</span>, <span style=\"color: #00af00; text-decoration-color: #00af00\">100</span>, <span style=\"color: #00af00; text-decoration-color: #00af00\">128</span>)       │         <span style=\"color: #00af00; text-decoration-color: #00af00\">295,040</span> │\n",
              "├──────────────────────────────────────┼─────────────────────────────┼─────────────────┤\n",
              "│ batch_normalization_4                │ (<span style=\"color: #00d7ff; text-decoration-color: #00d7ff\">None</span>, <span style=\"color: #00af00; text-decoration-color: #00af00\">100</span>, <span style=\"color: #00af00; text-decoration-color: #00af00\">100</span>, <span style=\"color: #00af00; text-decoration-color: #00af00\">128</span>)       │             <span style=\"color: #00af00; text-decoration-color: #00af00\">512</span> │\n",
              "│ (<span style=\"color: #0087ff; text-decoration-color: #0087ff\">BatchNormalization</span>)                 │                             │                 │\n",
              "├──────────────────────────────────────┼─────────────────────────────┼─────────────────┤\n",
              "│ max_pooling2d_1 (<span style=\"color: #0087ff; text-decoration-color: #0087ff\">MaxPooling2D</span>)       │ (<span style=\"color: #00d7ff; text-decoration-color: #00d7ff\">None</span>, <span style=\"color: #00af00; text-decoration-color: #00af00\">50</span>, <span style=\"color: #00af00; text-decoration-color: #00af00\">50</span>, <span style=\"color: #00af00; text-decoration-color: #00af00\">128</span>)         │               <span style=\"color: #00af00; text-decoration-color: #00af00\">0</span> │\n",
              "├──────────────────────────────────────┼─────────────────────────────┼─────────────────┤\n",
              "│ conv2d_2 (<span style=\"color: #0087ff; text-decoration-color: #0087ff\">Conv2D</span>)                    │ (<span style=\"color: #00d7ff; text-decoration-color: #00d7ff\">None</span>, <span style=\"color: #00af00; text-decoration-color: #00af00\">50</span>, <span style=\"color: #00af00; text-decoration-color: #00af00\">50</span>, <span style=\"color: #00af00; text-decoration-color: #00af00\">64</span>)          │          <span style=\"color: #00af00; text-decoration-color: #00af00\">73,792</span> │\n",
              "├──────────────────────────────────────┼─────────────────────────────┼─────────────────┤\n",
              "│ batch_normalization_5                │ (<span style=\"color: #00d7ff; text-decoration-color: #00d7ff\">None</span>, <span style=\"color: #00af00; text-decoration-color: #00af00\">50</span>, <span style=\"color: #00af00; text-decoration-color: #00af00\">50</span>, <span style=\"color: #00af00; text-decoration-color: #00af00\">64</span>)          │             <span style=\"color: #00af00; text-decoration-color: #00af00\">256</span> │\n",
              "│ (<span style=\"color: #0087ff; text-decoration-color: #0087ff\">BatchNormalization</span>)                 │                             │                 │\n",
              "├──────────────────────────────────────┼─────────────────────────────┼─────────────────┤\n",
              "│ max_pooling2d_2 (<span style=\"color: #0087ff; text-decoration-color: #0087ff\">MaxPooling2D</span>)       │ (<span style=\"color: #00d7ff; text-decoration-color: #00d7ff\">None</span>, <span style=\"color: #00af00; text-decoration-color: #00af00\">25</span>, <span style=\"color: #00af00; text-decoration-color: #00af00\">25</span>, <span style=\"color: #00af00; text-decoration-color: #00af00\">64</span>)          │               <span style=\"color: #00af00; text-decoration-color: #00af00\">0</span> │\n",
              "├──────────────────────────────────────┼─────────────────────────────┼─────────────────┤\n",
              "│ flatten_1 (<span style=\"color: #0087ff; text-decoration-color: #0087ff\">Flatten</span>)                  │ (<span style=\"color: #00d7ff; text-decoration-color: #00d7ff\">None</span>, <span style=\"color: #00af00; text-decoration-color: #00af00\">40000</span>)               │               <span style=\"color: #00af00; text-decoration-color: #00af00\">0</span> │\n",
              "├──────────────────────────────────────┼─────────────────────────────┼─────────────────┤\n",
              "│ dense_3 (<span style=\"color: #0087ff; text-decoration-color: #0087ff\">Dense</span>)                      │ (<span style=\"color: #00d7ff; text-decoration-color: #00d7ff\">None</span>, <span style=\"color: #00af00; text-decoration-color: #00af00\">64</span>)                  │       <span style=\"color: #00af00; text-decoration-color: #00af00\">2,560,064</span> │\n",
              "├──────────────────────────────────────┼─────────────────────────────┼─────────────────┤\n",
              "│ dense_4 (<span style=\"color: #0087ff; text-decoration-color: #0087ff\">Dense</span>)                      │ (<span style=\"color: #00d7ff; text-decoration-color: #00d7ff\">None</span>, <span style=\"color: #00af00; text-decoration-color: #00af00\">32</span>)                  │           <span style=\"color: #00af00; text-decoration-color: #00af00\">2,080</span> │\n",
              "├──────────────────────────────────────┼─────────────────────────────┼─────────────────┤\n",
              "│ dense_5 (<span style=\"color: #0087ff; text-decoration-color: #0087ff\">Dense</span>)                      │ (<span style=\"color: #00d7ff; text-decoration-color: #00d7ff\">None</span>, <span style=\"color: #00af00; text-decoration-color: #00af00\">3</span>)                   │              <span style=\"color: #00af00; text-decoration-color: #00af00\">99</span> │\n",
              "└──────────────────────────────────────┴─────────────────────────────┴─────────────────┘\n",
              "</pre>\n"
            ]
          },
          "metadata": {}
        },
        {
          "output_type": "display_data",
          "data": {
            "text/plain": [
              "\u001b[1m Total params: \u001b[0m\u001b[38;5;34m2,940,035\u001b[0m (11.22 MB)\n"
            ],
            "text/html": [
              "<pre style=\"white-space:pre;overflow-x:auto;line-height:normal;font-family:Menlo,'DejaVu Sans Mono',consolas,'Courier New',monospace\"><span style=\"font-weight: bold\"> Total params: </span><span style=\"color: #00af00; text-decoration-color: #00af00\">2,940,035</span> (11.22 MB)\n",
              "</pre>\n"
            ]
          },
          "metadata": {}
        },
        {
          "output_type": "display_data",
          "data": {
            "text/plain": [
              "\u001b[1m Trainable params: \u001b[0m\u001b[38;5;34m2,939,139\u001b[0m (11.21 MB)\n"
            ],
            "text/html": [
              "<pre style=\"white-space:pre;overflow-x:auto;line-height:normal;font-family:Menlo,'DejaVu Sans Mono',consolas,'Courier New',monospace\"><span style=\"font-weight: bold\"> Trainable params: </span><span style=\"color: #00af00; text-decoration-color: #00af00\">2,939,139</span> (11.21 MB)\n",
              "</pre>\n"
            ]
          },
          "metadata": {}
        },
        {
          "output_type": "display_data",
          "data": {
            "text/plain": [
              "\u001b[1m Non-trainable params: \u001b[0m\u001b[38;5;34m896\u001b[0m (3.50 KB)\n"
            ],
            "text/html": [
              "<pre style=\"white-space:pre;overflow-x:auto;line-height:normal;font-family:Menlo,'DejaVu Sans Mono',consolas,'Courier New',monospace\"><span style=\"font-weight: bold\"> Non-trainable params: </span><span style=\"color: #00af00; text-decoration-color: #00af00\">896</span> (3.50 KB)\n",
              "</pre>\n"
            ]
          },
          "metadata": {}
        }
      ],
      "execution_count": 78
    },
    {
      "cell_type": "code",
      "source": [
        "# Training the model\n",
        "b_size = 64\n",
        "e_num = 30\n",
        "\n",
        "# Callback Functions\n",
        "es = EarlyStopping(monitor='val_loss', mode='min', verbose=1, patience=10)\n",
        "\n",
        "history = model.fit(\n",
        "np.array(transformed_X_train), y_train_encoded,\n",
        "batch_size=b_size,\n",
        "epochs=e_num,\n",
        "verbose = 1,\n",
        "class_weight=class_weights,\n",
        "callbacks=es,\n",
        "validation_split=0.1)"
      ],
      "metadata": {
        "id": "x9tcGFRWulj-",
        "trusted": true,
        "execution": {
          "iopub.status.busy": "2025-03-24T18:53:16.164574Z",
          "iopub.execute_input": "2025-03-24T18:53:16.164915Z",
          "execution_failed": "2025-03-24T18:56:18.035Z"
        },
        "colab": {
          "base_uri": "https://localhost:8080/"
        },
        "outputId": "2291c219-48d9-420b-b38b-c4a6223c7c54"
      },
      "outputs": [
        {
          "output_type": "stream",
          "name": "stdout",
          "text": [
            "Epoch 1/30\n",
            "\u001b[1m124/124\u001b[0m \u001b[32m━━━━━━━━━━━━━━━━━━━━\u001b[0m\u001b[37m\u001b[0m \u001b[1m102s\u001b[0m 622ms/step - accuracy: 0.5804 - loss: 1.8890 - val_accuracy: 0.6447 - val_loss: 0.8647\n",
            "Epoch 2/30\n",
            "\u001b[1m124/124\u001b[0m \u001b[32m━━━━━━━━━━━━━━━━━━━━\u001b[0m\u001b[37m\u001b[0m \u001b[1m51s\u001b[0m 409ms/step - accuracy: 0.7949 - loss: 0.6553 - val_accuracy: 0.7072 - val_loss: 0.8299\n",
            "Epoch 3/30\n",
            "\u001b[1m124/124\u001b[0m \u001b[32m━━━━━━━━━━━━━━━━━━━━\u001b[0m\u001b[37m\u001b[0m \u001b[1m50s\u001b[0m 406ms/step - accuracy: 0.7997 - loss: 0.6240 - val_accuracy: 0.7389 - val_loss: 0.7516\n",
            "Epoch 4/30\n",
            "\u001b[1m124/124\u001b[0m \u001b[32m━━━━━━━━━━━━━━━━━━━━\u001b[0m\u001b[37m\u001b[0m \u001b[1m51s\u001b[0m 411ms/step - accuracy: 0.8211 - loss: 0.5535 - val_accuracy: 0.5766 - val_loss: 1.5613\n",
            "Epoch 5/30\n",
            "\u001b[1m124/124\u001b[0m \u001b[32m━━━━━━━━━━━━━━━━━━━━\u001b[0m\u001b[37m\u001b[0m \u001b[1m51s\u001b[0m 407ms/step - accuracy: 0.8316 - loss: 0.5352 - val_accuracy: 0.8331 - val_loss: 0.4961\n",
            "Epoch 6/30\n",
            "\u001b[1m124/124\u001b[0m \u001b[32m━━━━━━━━━━━━━━━━━━━━\u001b[0m\u001b[37m\u001b[0m \u001b[1m51s\u001b[0m 409ms/step - accuracy: 0.8330 - loss: 0.5259 - val_accuracy: 0.7435 - val_loss: 0.6721\n",
            "Epoch 7/30\n",
            "\u001b[1m124/124\u001b[0m \u001b[32m━━━━━━━━━━━━━━━━━━━━\u001b[0m\u001b[37m\u001b[0m \u001b[1m51s\u001b[0m 409ms/step - accuracy: 0.8564 - loss: 0.4747 - val_accuracy: 0.7355 - val_loss: 0.8853\n",
            "Epoch 8/30\n",
            "\u001b[1m124/124\u001b[0m \u001b[32m━━━━━━━━━━━━━━━━━━━━\u001b[0m\u001b[37m\u001b[0m \u001b[1m51s\u001b[0m 410ms/step - accuracy: 0.8668 - loss: 0.4436 - val_accuracy: 0.7730 - val_loss: 0.6273\n",
            "Epoch 9/30\n",
            "\u001b[1m124/124\u001b[0m \u001b[32m━━━━━━━━━━━━━━━━━━━━\u001b[0m\u001b[37m\u001b[0m \u001b[1m51s\u001b[0m 408ms/step - accuracy: 0.8671 - loss: 0.4428 - val_accuracy: 0.7889 - val_loss: 0.6255\n",
            "Epoch 10/30\n",
            "\u001b[1m124/124\u001b[0m \u001b[32m━━━━━━━━━━━━━━━━━━━━\u001b[0m\u001b[37m\u001b[0m \u001b[1m51s\u001b[0m 408ms/step - accuracy: 0.8656 - loss: 0.4183 - val_accuracy: 0.4926 - val_loss: 1.6245\n",
            "Epoch 11/30\n",
            "\u001b[1m124/124\u001b[0m \u001b[32m━━━━━━━━━━━━━━━━━━━━\u001b[0m\u001b[37m\u001b[0m \u001b[1m51s\u001b[0m 409ms/step - accuracy: 0.8801 - loss: 0.3919 - val_accuracy: 0.8184 - val_loss: 0.5210\n",
            "Epoch 12/30\n",
            "\u001b[1m124/124\u001b[0m \u001b[32m━━━━━━━━━━━━━━━━━━━━\u001b[0m\u001b[37m\u001b[0m \u001b[1m51s\u001b[0m 409ms/step - accuracy: 0.8860 - loss: 0.3505 - val_accuracy: 0.7605 - val_loss: 0.7737\n",
            "Epoch 13/30\n",
            "\u001b[1m124/124\u001b[0m \u001b[32m━━━━━━━━━━━━━━━━━━━━\u001b[0m\u001b[37m\u001b[0m \u001b[1m51s\u001b[0m 408ms/step - accuracy: 0.8857 - loss: 0.3508 - val_accuracy: 0.8025 - val_loss: 0.6268\n",
            "Epoch 14/30\n",
            "\u001b[1m124/124\u001b[0m \u001b[32m━━━━━━━━━━━━━━━━━━━━\u001b[0m\u001b[37m\u001b[0m \u001b[1m51s\u001b[0m 408ms/step - accuracy: 0.8999 - loss: 0.3124 - val_accuracy: 0.8320 - val_loss: 0.4731\n",
            "Epoch 15/30\n",
            "\u001b[1m124/124\u001b[0m \u001b[32m━━━━━━━━━━━━━━━━━━━━\u001b[0m\u001b[37m\u001b[0m \u001b[1m51s\u001b[0m 409ms/step - accuracy: 0.9083 - loss: 0.2886 - val_accuracy: 0.8127 - val_loss: 0.5502\n",
            "Epoch 16/30\n",
            "\u001b[1m124/124\u001b[0m \u001b[32m━━━━━━━━━━━━━━━━━━━━\u001b[0m\u001b[37m\u001b[0m \u001b[1m51s\u001b[0m 409ms/step - accuracy: 0.9120 - loss: 0.2634 - val_accuracy: 0.8479 - val_loss: 0.5544\n",
            "Epoch 17/30\n",
            "\u001b[1m124/124\u001b[0m \u001b[32m━━━━━━━━━━━━━━━━━━━━\u001b[0m\u001b[37m\u001b[0m \u001b[1m51s\u001b[0m 407ms/step - accuracy: 0.9036 - loss: 0.2932 - val_accuracy: 0.8683 - val_loss: 0.4175\n",
            "Epoch 18/30\n",
            "\u001b[1m124/124\u001b[0m \u001b[32m━━━━━━━━━━━━━━━━━━━━\u001b[0m\u001b[37m\u001b[0m \u001b[1m51s\u001b[0m 408ms/step - accuracy: 0.9299 - loss: 0.2164 - val_accuracy: 0.7355 - val_loss: 0.9489\n",
            "Epoch 19/30\n",
            "\u001b[1m124/124\u001b[0m \u001b[32m━━━━━━━━━━━━━━━━━━━━\u001b[0m\u001b[37m\u001b[0m \u001b[1m51s\u001b[0m 409ms/step - accuracy: 0.9216 - loss: 0.2618 - val_accuracy: 0.8127 - val_loss: 0.6254\n",
            "Epoch 20/30\n",
            "\u001b[1m124/124\u001b[0m \u001b[32m━━━━━━━━━━━━━━━━━━━━\u001b[0m\u001b[37m\u001b[0m \u001b[1m51s\u001b[0m 409ms/step - accuracy: 0.9269 - loss: 0.2292 - val_accuracy: 0.8365 - val_loss: 0.4955\n",
            "Epoch 21/30\n",
            "\u001b[1m124/124\u001b[0m \u001b[32m━━━━━━━━━━━━━━━━━━━━\u001b[0m\u001b[37m\u001b[0m \u001b[1m51s\u001b[0m 408ms/step - accuracy: 0.9403 - loss: 0.1845 - val_accuracy: 0.8241 - val_loss: 0.5616\n",
            "Epoch 22/30\n",
            "\u001b[1m124/124\u001b[0m \u001b[32m━━━━━━━━━━━━━━━━━━━━\u001b[0m\u001b[37m\u001b[0m \u001b[1m51s\u001b[0m 408ms/step - accuracy: 0.9492 - loss: 0.1785 - val_accuracy: 0.8445 - val_loss: 0.5437\n",
            "Epoch 23/30\n",
            "\u001b[1m124/124\u001b[0m \u001b[32m━━━━━━━━━━━━━━━━━━━━\u001b[0m\u001b[37m\u001b[0m \u001b[1m51s\u001b[0m 408ms/step - accuracy: 0.9527 - loss: 0.1431 - val_accuracy: 0.8286 - val_loss: 0.5962\n",
            "Epoch 24/30\n",
            "\u001b[1m124/124\u001b[0m \u001b[32m━━━━━━━━━━━━━━━━━━━━\u001b[0m\u001b[37m\u001b[0m \u001b[1m51s\u001b[0m 408ms/step - accuracy: 0.9655 - loss: 0.1182 - val_accuracy: 0.7401 - val_loss: 0.9004\n",
            "Epoch 25/30\n",
            "\u001b[1m124/124\u001b[0m \u001b[32m━━━━━━━━━━━━━━━━━━━━\u001b[0m\u001b[37m\u001b[0m \u001b[1m51s\u001b[0m 408ms/step - accuracy: 0.9549 - loss: 0.1433 - val_accuracy: 0.8683 - val_loss: 0.5338\n",
            "Epoch 26/30\n",
            "\u001b[1m124/124\u001b[0m \u001b[32m━━━━━━━━━━━━━━━━━━━━\u001b[0m\u001b[37m\u001b[0m \u001b[1m51s\u001b[0m 408ms/step - accuracy: 0.9666 - loss: 0.1059 - val_accuracy: 0.8365 - val_loss: 0.6792\n",
            "Epoch 27/30\n",
            "\u001b[1m124/124\u001b[0m \u001b[32m━━━━━━━━━━━━━━━━━━━━\u001b[0m\u001b[37m\u001b[0m \u001b[1m51s\u001b[0m 409ms/step - accuracy: 0.9521 - loss: 0.1406 - val_accuracy: 0.8627 - val_loss: 0.6037\n",
            "Epoch 27: early stopping\n"
          ]
        }
      ],
      "execution_count": 79
    },
    {
      "cell_type": "code",
      "source": [
        "# Making predictions on unseen data (test set)\n",
        "y_pred = model.predict(np.array(transformed_X_test))\n",
        "y_pred_labels = np.argmax(y_pred, axis=1)"
      ],
      "metadata": {
        "id": "U0Ws1R8KuqYl",
        "trusted": true,
        "execution": {
          "execution_failed": "2025-03-24T18:56:18.037Z"
        },
        "colab": {
          "base_uri": "https://localhost:8080/"
        },
        "outputId": "df7cef0e-dcda-4aa5-f917-96d05e1794e5"
      },
      "outputs": [
        {
          "output_type": "stream",
          "name": "stdout",
          "text": [
            "\u001b[1m92/92\u001b[0m \u001b[32m━━━━━━━━━━━━━━━━━━━━\u001b[0m\u001b[37m\u001b[0m \u001b[1m14s\u001b[0m 99ms/step\n"
          ]
        }
      ],
      "execution_count": 80
    },
    {
      "cell_type": "code",
      "source": [
        "# Confusion matrix\n",
        "classes = ['Spiral', 'Elliptical', 'Odd']\n",
        "plotting.plot_confusion_matrix(np.array(y_test), np.array(y_pred_labels), classes=classes, cmap=plt.cm.Purples, normalize=False, x_tick_rot=0)\n",
        "plt.savefig('CM_final3')"
      ],
      "metadata": {
        "id": "2kjDMF0vvGOd",
        "trusted": true,
        "execution": {
          "execution_failed": "2025-03-24T18:56:18.038Z"
        },
        "colab": {
          "base_uri": "https://localhost:8080/",
          "height": 487
        },
        "outputId": "ee1901f5-4920-45c5-f10b-c61209eab6c8"
      },
      "outputs": [
        {
          "output_type": "display_data",
          "data": {
            "text/plain": [
              "<Figure size 640x480 with 2 Axes>"
            ],
            "image/png": "[encoded data removed]"
          },
          "metadata": {}
        }
      ],
      "execution_count": 82
    },
    {
      "cell_type": "code",
      "source": [
        "# Computing the ROC Curve\n",
        "y_score = y_pred  # Use predicted probabilities for ROC curve"
      ],
      "metadata": {
        "id": "mL0cbaHvvy6Q",
        "trusted": true,
        "execution": {
          "execution_failed": "2025-03-24T18:56:18.038Z"
        }
      },
      "outputs": [],
      "execution_count": 83
    },
    {
      "cell_type": "code",
      "source": [
        "y_test_bin = label_binarize(y_test, classes=list(range(3)))  # Binarize the true labels"
      ],
      "metadata": {
        "id": "i3l0KC2sv0G0",
        "trusted": true,
        "execution": {
          "execution_failed": "2025-03-24T18:56:18.039Z"
        }
      },
      "outputs": [],
      "execution_count": 84
    },
    {
      "cell_type": "code",
      "source": [
        "# Computing True Positive and False Positive Rates for each class\n",
        "fpr = dict()\n",
        "tpr = dict()\n",
        "roc_auc = dict()\n",
        "\n",
        "for i in range(3):\n",
        "    fpr[i], tpr[i], _ = roc_curve(y_test_bin[:, i], y_score[:, i])\n",
        "    roc_auc[i] = auc(fpr[i], tpr[i])\n",
        "\n",
        "class_names = ['Spiral', 'Elliptical', 'Odd Objects']\n",
        "\n",
        "fig, ax = plt.subplots(figsize=(6, 6), dpi=100)\n",
        "\n",
        "mean_fpr = np.linspace(-float(1e-6), 1, int(1e7))\n",
        "\n",
        "# Save ROC curves\n",
        "model_iii_roc_curves = []\n",
        "\n",
        "# Plotting the ROC curve for each class\n",
        "for i in range(3):  # Iterate through each class\n",
        "    tprs_interp = []\n",
        "    for j in range(len(fpr)):\n",
        "        tprs_interp.append(np.interp(mean_fpr, fpr[i], tpr[i]))\n",
        "\n",
        "    mean_tpr = np.mean(tprs_interp, axis=0)\n",
        "    mean_auc = np.trapz(mean_tpr, mean_fpr)\n",
        "\n",
        "    # Save curves to list\n",
        "    model_iii_roc_curves.append((mean_fpr, mean_tpr, mean_auc))\n",
        "\n",
        "    ax.plot(mean_fpr, mean_tpr, label=f'{class_names[i]} (AUC = {mean_auc:.3f})', lw=2)\n",
        "\n",
        "ax.plot([0, 1], [0, 1], linestyle='--', color='black', label='Random Guess')\n",
        "ax.set_xlabel('False Positive Rate')\n",
        "ax.set_ylabel('True Positive Rate')\n",
        "ax.set_title(f'Receiver Operating Characteristic (ROC) Curve')\n",
        "ax.legend(loc='lower right')\n",
        "\n",
        "plt.tight_layout()\n",
        "plt.show()"
      ],
      "metadata": {
        "id": "Cg4caKrSvXsQ",
        "trusted": true,
        "execution": {
          "execution_failed": "2025-03-24T18:56:18.039Z"
        },
        "colab": {
          "base_uri": "https://localhost:8080/",
          "height": 607
        },
        "outputId": "530e56ba-d7ba-4272-a7df-3369af24ced2"
      },
      "outputs": [
        {
          "output_type": "display_data",
          "data": {
            "text/plain": [
              "<Figure size 600x600 with 1 Axes>"
            ],
            "image/png": "[encoded data removed]"
          },
          "metadata": {}
        }
      ],
      "execution_count": 85
    },
    {
      "cell_type": "code",
      "source": [
        "# Save the ROC curves of this model to the roc_curves dictionary\n",
        "roc_curves['Model III'] = model_iii_roc_curves"
      ],
      "metadata": {
        "id": "Gk70jTc7VlvO",
        "trusted": true,
        "execution": {
          "execution_failed": "2025-03-24T18:56:18.040Z"
        }
      },
      "outputs": [],
      "execution_count": 86
    },
    {
      "cell_type": "code",
      "source": [
        "# Performance\n",
        "recall = recall_score(y_test, y_pred_labels, average= 'weighted')\n",
        "precision = precision_score(y_test, y_pred_labels, average= 'weighted')\n",
        "f1 = f1_score(y_test, y_pred_labels, average= 'weighted')\n",
        "accuracy = accuracy_score(y_test, y_pred_labels)\n",
        "\n",
        "# Calculating the True Skill Score (TSS) for every class\n",
        "\n",
        "# We need the confusion matrix for this\n",
        "cm = confusion_matrix(y_test, y_pred_labels)\n",
        "\n",
        "tss_per_class = {}\n",
        "\n",
        "for i, class_name in enumerate(class_names):\n",
        "    tp = cm[i, i]  # True Positives for class i\n",
        "    fn = np.sum(cm[i, :]) - tp  # False Negatives: Sum of row minus TP\n",
        "    fp = np.sum(cm[:, i]) - tp  # False Positives: Sum of column minus TP\n",
        "    tn = np.sum(cm) - (tp + fn + fp)  # True Negatives: All other elements\n",
        "\n",
        "    tss = (tp / (tp + fn)) - (fp / (fp + tn))  # True Skill Score for class i\n",
        "    tss_per_class[class_name] = tss\n",
        "\n",
        "    print(\"TSS for\", f\"'{class_name}'\", \"class:\", tss_per_class[class_name])"
      ],
      "metadata": {
        "id": "35lldQpKwWW-",
        "trusted": true,
        "execution": {
          "execution_failed": "2025-03-24T18:56:18.040Z"
        },
        "colab": {
          "base_uri": "https://localhost:8080/"
        },
        "outputId": "54f06afd-9eab-4cb0-96f0-ec7db040abf1"
      },
      "outputs": [
        {
          "output_type": "stream",
          "name": "stdout",
          "text": [
            "TSS for 'Spiral' class: 0.7507481686617831\n",
            "TSS for 'Elliptical' class: 0.8480907923335309\n",
            "TSS for 'Odd Objects' class: 0.36151384535005227\n"
          ]
        }
      ],
      "execution_count": 87
    },
    {
      "cell_type": "code",
      "source": [
        "print(\"Recall:\", recall)\n",
        "print(\"Precision:\", precision)\n",
        "print(\"F1_score:\", f1)\n",
        "print(\"Accuracy:\", accuracy)"
      ],
      "metadata": {
        "id": "cxSuroXLwagr",
        "trusted": true,
        "execution": {
          "execution_failed": "2025-03-24T18:56:18.040Z"
        },
        "colab": {
          "base_uri": "https://localhost:8080/"
        },
        "outputId": "649c0d8b-8c60-437c-c845-4e65f5adf18c"
      },
      "outputs": [
        {
          "output_type": "stream",
          "name": "stdout",
          "text": [
            "Recall: 0.8532016348773842\n",
            "Precision: 0.844472182306752\n",
            "F1_score: 0.8415277444670661\n",
            "Accuracy: 0.8532016348773842\n"
          ]
        }
      ],
      "execution_count": 88
    },
    {
      "cell_type": "markdown",
      "source": [
        "### **Model IV: ResNet50 + Vision transformer + Original Images**"
      ],
      "metadata": {
        "id": "Zx087O8FtPOv"
      }
    },
    {
      "cell_type": "code",
      "source": [
        "# Splitting into train and test sets\n",
        "X_train, X_test, y_train, y_test, train_indices, test_indices = train_test_split(all_data, all_labels, np.arange(len(all_labels)),\n",
        "                                                                                 test_size=0.25, shuffle=True, random_state=50)\n",
        "\n",
        "y_train_encoded = to_categorical(y_train, num_classes=3)"
      ],
      "metadata": {
        "id": "NbnN0v0Rs8cJ",
        "trusted": true,
        "execution": {
          "execution_failed": "2025-03-24T18:56:18.041Z"
        }
      },
      "outputs": [],
      "execution_count": 89
    },
    {
      "cell_type": "code",
      "source": [
        "# Transformer for training data\n",
        "transformed_X_train=[]\n",
        "for i in range(len(X_train)):\n",
        "  transformed_train_images = train_transform(X_train[i])\n",
        "  new_image = np.transpose(transformed_train_images, (1, 2, 0))\n",
        "  transformed_X_train.append(new_image)\n",
        "\n",
        "# Transformer for testing data\n",
        "transformed_X_test=[]\n",
        "for j in range(len(X_test)):\n",
        "  transformed_test_images = test_transform(X_test[j])\n",
        "  new_images = np.transpose(transformed_test_images, (1, 2, 0))\n",
        "  transformed_X_test.append(new_images)"
      ],
      "metadata": {
        "id": "Ys8lkV9F24s3",
        "trusted": true,
        "execution": {
          "execution_failed": "2025-03-24T18:56:18.041Z"
        }
      },
      "outputs": [],
      "execution_count": 90
    },
    {
      "cell_type": "code",
      "source": [
        "# Defining the class weights to account for class imbalance\n",
        "class_weights = {0: len(all_data) / (3*len(sp_img)), 1: len(all_data) / (3*len(el_img)), 2: len(all_data) / (3*len(odd_img))}"
      ],
      "metadata": {
        "id": "woFFYmC83BVW",
        "trusted": true,
        "execution": {
          "execution_failed": "2025-03-24T18:56:18.042Z"
        }
      },
      "outputs": [],
      "execution_count": 91
    },
    {
      "cell_type": "code",
      "source": [
        "# Defining the pretrained ResNet50\n",
        "base_model = ResNet50(weights='imagenet', include_top=False, input_shape=(image_size, image_size, 3))\n",
        "\n",
        "x = Flatten()(base_model.output)\n",
        "x = Dense(64, activation='relu')(x)  # The custom layers\n",
        "output = Dense(3, activation='softmax')(x)\n",
        "\n",
        "model = Model(inputs=base_model.input, outputs=output)\n",
        "\n",
        "model.compile(loss='categorical_crossentropy', optimizer='adam', metrics=['accuracy'])"
      ],
      "metadata": {
        "id": "iZ41KGWE3DGa",
        "trusted": true,
        "execution": {
          "execution_failed": "2025-03-24T18:56:18.042Z"
        },
        "colab": {
          "base_uri": "https://localhost:8080/"
        },
        "outputId": "dc06c5b4-a42f-4189-81a4-827cd89ee508"
      },
      "outputs": [
        {
          "output_type": "stream",
          "name": "stdout",
          "text": [
            "Downloading data from https://storage.googleapis.com/tensorflow/keras-applications/resnet/resnet50_weights_tf_dim_ordering_tf_kernels_notop.h5\n",
            "\u001b[1m94765736/94765736\u001b[0m \u001b[32m━━━━━━━━━━━━━━━━━━━━\u001b[0m\u001b[37m\u001b[0m \u001b[1m4s\u001b[0m 0us/step\n"
          ]
        }
      ],
      "execution_count": 92
    },
    {
      "cell_type": "code",
      "source": [
        "# Training the model\n",
        "es = EarlyStopping(monitor='val_loss', mode='min', verbose=1, patience=10)\n",
        "\n",
        "history = model.fit(\n",
        "np.array(transformed_X_train), y_train_encoded,\n",
        "batch_size=b_size,\n",
        "epochs=e_num,\n",
        "verbose = 1,\n",
        "callbacks=es,\n",
        "class_weight=class_weights,\n",
        "validation_split=0.1\n",
        ")"
      ],
      "metadata": {
        "id": "NBLWqQ5v3PQl",
        "trusted": true,
        "execution": {
          "execution_failed": "2025-03-24T18:56:18.042Z"
        },
        "colab": {
          "base_uri": "https://localhost:8080/"
        },
        "outputId": "caab557c-a3d0-40d2-ab02-61e3293d25df"
      },
      "outputs": [
        {
          "output_type": "stream",
          "name": "stdout",
          "text": [
            "Epoch 1/30\n",
            "\u001b[1m124/124\u001b[0m \u001b[32m━━━━━━━━━━━━━━━━━━━━\u001b[0m\u001b[37m\u001b[0m \u001b[1m165s\u001b[0m 834ms/step - accuracy: 0.6507 - loss: 3.3176 - val_accuracy: 0.1237 - val_loss: 4.3516\n",
            "Epoch 2/30\n",
            "\u001b[1m124/124\u001b[0m \u001b[32m━━━━━━━━━━━━━━━━━━━━\u001b[0m\u001b[37m\u001b[0m \u001b[1m65s\u001b[0m 526ms/step - accuracy: 0.8736 - loss: 0.3498 - val_accuracy: 0.1237 - val_loss: 1.4444\n",
            "Epoch 3/30\n",
            "\u001b[1m124/124\u001b[0m \u001b[32m━━━━━━━━━━━━━━━━━━━━\u001b[0m\u001b[37m\u001b[0m \u001b[1m65s\u001b[0m 520ms/step - accuracy: 0.9090 - loss: 0.2539 - val_accuracy: 0.1237 - val_loss: 9.9346\n",
            "Epoch 4/30\n",
            "\u001b[1m124/124\u001b[0m \u001b[32m━━━━━━━━━━━━━━━━━━━━\u001b[0m\u001b[37m\u001b[0m \u001b[1m64s\u001b[0m 518ms/step - accuracy: 0.8791 - loss: 0.3309 - val_accuracy: 0.2963 - val_loss: 1.5451\n",
            "Epoch 5/30\n",
            "\u001b[1m124/124\u001b[0m \u001b[32m━━━━━━━━━━━━━━━━━━━━\u001b[0m\u001b[37m\u001b[0m \u001b[1m64s\u001b[0m 520ms/step - accuracy: 0.8932 - loss: 0.2420 - val_accuracy: 0.5040 - val_loss: 1.3908\n",
            "Epoch 6/30\n",
            "\u001b[1m124/124\u001b[0m \u001b[32m━━━━━━━━━━━━━━━━━━━━\u001b[0m\u001b[37m\u001b[0m \u001b[1m65s\u001b[0m 522ms/step - accuracy: 0.9304 - loss: 0.2106 - val_accuracy: 0.2826 - val_loss: 2.7249\n",
            "Epoch 7/30\n",
            "\u001b[1m124/124\u001b[0m \u001b[32m━━━━━━━━━━━━━━━━━━━━\u001b[0m\u001b[37m\u001b[0m \u001b[1m65s\u001b[0m 522ms/step - accuracy: 0.8972 - loss: 0.2622 - val_accuracy: 0.8173 - val_loss: 0.5974\n",
            "Epoch 8/30\n",
            "\u001b[1m124/124\u001b[0m \u001b[32m━━━━━━━━━━━━━━━━━━━━\u001b[0m\u001b[37m\u001b[0m \u001b[1m65s\u001b[0m 522ms/step - accuracy: 0.9090 - loss: 0.2325 - val_accuracy: 0.3621 - val_loss: 2412.8374\n",
            "Epoch 9/30\n",
            "\u001b[1m124/124\u001b[0m \u001b[32m━━━━━━━━━━━━━━━━━━━━\u001b[0m\u001b[37m\u001b[0m \u001b[1m65s\u001b[0m 521ms/step - accuracy: 0.8666 - loss: 0.4777 - val_accuracy: 0.7003 - val_loss: 0.7471\n",
            "Epoch 10/30\n",
            "\u001b[1m124/124\u001b[0m \u001b[32m━━━━━━━━━━━━━━━━━━━━\u001b[0m\u001b[37m\u001b[0m \u001b[1m65s\u001b[0m 522ms/step - accuracy: 0.9385 - loss: 0.1821 - val_accuracy: 0.9205 - val_loss: 0.2899\n",
            "Epoch 11/30\n",
            "\u001b[1m124/124\u001b[0m \u001b[32m━━━━━━━━━━━━━━━━━━━━\u001b[0m\u001b[37m\u001b[0m \u001b[1m65s\u001b[0m 520ms/step - accuracy: 0.9498 - loss: 0.1434 - val_accuracy: 0.9262 - val_loss: 0.2133\n",
            "Epoch 12/30\n",
            "\u001b[1m124/124\u001b[0m \u001b[32m━━━━━━━━━━━━━━━━━━━━\u001b[0m\u001b[37m\u001b[0m \u001b[1m65s\u001b[0m 522ms/step - accuracy: 0.9641 - loss: 0.1072 - val_accuracy: 0.9467 - val_loss: 0.1771\n",
            "Epoch 13/30\n",
            "\u001b[1m124/124\u001b[0m \u001b[32m━━━━━━━━━━━━━━━━━━━━\u001b[0m\u001b[37m\u001b[0m \u001b[1m65s\u001b[0m 522ms/step - accuracy: 0.9719 - loss: 0.0840 - val_accuracy: 0.9319 - val_loss: 0.2246\n",
            "Epoch 14/30\n",
            "\u001b[1m124/124\u001b[0m \u001b[32m━━━━━━━━━━━━━━━━━━━━\u001b[0m\u001b[37m\u001b[0m \u001b[1m65s\u001b[0m 522ms/step - accuracy: 0.9727 - loss: 0.0704 - val_accuracy: 0.8683 - val_loss: 0.4339\n",
            "Epoch 15/30\n",
            "\u001b[1m124/124\u001b[0m \u001b[32m━━━━━━━━━━━━━━━━━━━━\u001b[0m\u001b[37m\u001b[0m \u001b[1m65s\u001b[0m 522ms/step - accuracy: 0.9839 - loss: 0.0435 - val_accuracy: 0.9444 - val_loss: 0.2595\n",
            "Epoch 16/30\n",
            "\u001b[1m124/124\u001b[0m \u001b[32m━━━━━━━━━━━━━━━━━━━━\u001b[0m\u001b[37m\u001b[0m \u001b[1m65s\u001b[0m 523ms/step - accuracy: 0.9828 - loss: 0.0406 - val_accuracy: 0.9240 - val_loss: 0.3375\n",
            "Epoch 17/30\n",
            "\u001b[1m124/124\u001b[0m \u001b[32m━━━━━━━━━━━━━━━━━━━━\u001b[0m\u001b[37m\u001b[0m \u001b[1m65s\u001b[0m 521ms/step - accuracy: 0.9724 - loss: 0.0799 - val_accuracy: 0.9217 - val_loss: 0.2746\n",
            "Epoch 18/30\n",
            "\u001b[1m124/124\u001b[0m \u001b[32m━━━━━━━━━━━━━━━━━━━━\u001b[0m\u001b[37m\u001b[0m \u001b[1m65s\u001b[0m 523ms/step - accuracy: 0.9802 - loss: 0.0591 - val_accuracy: 0.8502 - val_loss: 1.4747\n",
            "Epoch 19/30\n",
            "\u001b[1m124/124\u001b[0m \u001b[32m━━━━━━━━━━━━━━━━━━━━\u001b[0m\u001b[37m\u001b[0m \u001b[1m65s\u001b[0m 522ms/step - accuracy: 0.9734 - loss: 0.0841 - val_accuracy: 0.9274 - val_loss: 0.2538\n",
            "Epoch 20/30\n",
            "\u001b[1m124/124\u001b[0m \u001b[32m━━━━━━━━━━━━━━━━━━━━\u001b[0m\u001b[37m\u001b[0m \u001b[1m65s\u001b[0m 521ms/step - accuracy: 0.9851 - loss: 0.0403 - val_accuracy: 0.8740 - val_loss: 0.3894\n",
            "Epoch 21/30\n",
            "\u001b[1m124/124\u001b[0m \u001b[32m━━━━━━━━━━━━━━━━━━━━\u001b[0m\u001b[37m\u001b[0m \u001b[1m65s\u001b[0m 522ms/step - accuracy: 0.9689 - loss: 0.0963 - val_accuracy: 0.9285 - val_loss: 0.2373\n",
            "Epoch 22/30\n",
            "\u001b[1m124/124\u001b[0m \u001b[32m━━━━━━━━━━━━━━━━━━━━\u001b[0m\u001b[37m\u001b[0m \u001b[1m65s\u001b[0m 521ms/step - accuracy: 0.9719 - loss: 0.0949 - val_accuracy: 0.9285 - val_loss: 0.2335\n",
            "Epoch 22: early stopping\n"
          ]
        }
      ],
      "execution_count": 93
    },
    {
      "cell_type": "code",
      "source": [
        "# Making predictions on unseen data (test set)\n",
        "y_pred = model.predict(np.array(transformed_X_test))\n",
        "y_pred_labels = np.argmax(y_pred, axis=1)"
      ],
      "metadata": {
        "id": "ZRikf45Q3lc5",
        "trusted": true,
        "execution": {
          "execution_failed": "2025-03-24T18:56:18.043Z"
        },
        "colab": {
          "base_uri": "https://localhost:8080/"
        },
        "outputId": "dd8cd6d9-b586-420f-818a-43adb66d3dd9"
      },
      "outputs": [
        {
          "output_type": "stream",
          "name": "stdout",
          "text": [
            "\u001b[1m92/92\u001b[0m \u001b[32m━━━━━━━━━━━━━━━━━━━━\u001b[0m\u001b[37m\u001b[0m \u001b[1m18s\u001b[0m 127ms/step\n"
          ]
        }
      ],
      "execution_count": 94
    },
    {
      "cell_type": "code",
      "source": [
        "# Confusion matrix\n",
        "classes = ['Spiral', 'Elliptical', 'Odd Objects']\n",
        "plotting.plot_confusion_matrix(np.array(y_test), np.array(y_pred_labels), classes=classes, cmap=plt.cm.Purples, normalize=False, x_tick_rot=0)\n",
        "plt.savefig('CM_final4')"
      ],
      "metadata": {
        "id": "MhZFW0bo3pxP",
        "trusted": true,
        "execution": {
          "execution_failed": "2025-03-24T18:56:18.043Z"
        }
      },
      "outputs": [],
      "execution_count": null
    },
    {
      "cell_type": "code",
      "source": [
        "# Plotting ROC curve\n",
        "\n",
        "y_score = y_pred  # Use predicted probabilities for ROC curve\n",
        "y_test_bin = label_binarize(y_test, classes=list(range(3)))  # Binarize the true labels\n",
        "\n",
        "# Computing True Positive and False Positive Rates for each class\n",
        "fpr = dict()\n",
        "tpr = dict()\n",
        "roc_auc = dict()\n",
        "\n",
        "for i in range(3):\n",
        "    fpr[i], tpr[i], _ = roc_curve(y_test_bin[:, i], y_score[:, i])\n",
        "    roc_auc[i] = auc(fpr[i], tpr[i])\n",
        "\n",
        "class_names = ['Spiral', 'Elliptical', 'Odd objects']\n",
        "\n",
        "fig, ax = plt.subplots(figsize=(10, 8))\n",
        "\n",
        "#mean_fpr = np.linspace(-float(1e-6), 1, int(1e6))\n",
        "mean_fpr = np.linspace(-float(1e-6), 1, int(1e7))\n",
        "\n",
        "\n",
        "# Save ROC curves\n",
        "model_iv_roc_curves = []\n",
        "\n",
        "# Plotting the ROC curve for each class\n",
        "for i in range(3):  # Iterate through each class\n",
        "    tprs_interp = []\n",
        "    for j in range(len(fpr)):\n",
        "        tprs_interp.append(np.interp(mean_fpr, fpr[i], tpr[i]))\n",
        "\n",
        "    mean_tpr = np.mean(tprs_interp, axis=0)\n",
        "    mean_auc = np.trapz(mean_tpr, mean_fpr)\n",
        "\n",
        "    # Save curves to list\n",
        "    model_iv_roc_curves.append((mean_fpr, mean_tpr, mean_auc))\n",
        "\n",
        "    ax.plot(mean_fpr, mean_tpr, label=f'{class_names[i]} (AUC = {mean_auc:.3f})', lw=2)\n",
        "\n",
        "ax.plot([0, 1], [0, 1], linestyle='--', color='black', label='Random Guess')\n",
        "ax.set_xlabel('False Positive Rate')\n",
        "ax.set_ylabel('True Positive Rate')\n",
        "ax.set_title(f'Receiver Operating Characteristic (ROC) Curve')\n",
        "ax.legend(loc='lower right')\n",
        "\n",
        "plt.tight_layout()\n",
        "plt.show()"
      ],
      "metadata": {
        "id": "MtIC4knW35r7",
        "trusted": true,
        "execution": {
          "execution_failed": "2025-03-24T18:56:18.043Z"
        }
      },
      "outputs": [],
      "execution_count": null
    },
    {
      "cell_type": "code",
      "source": [
        "# Save the ROC curves of this model to the roc_curves dictionary\n",
        "roc_curves['Model IV'] = model_iv_roc_curves"
      ],
      "metadata": {
        "id": "uIFA-RVrV_tS",
        "trusted": true,
        "execution": {
          "execution_failed": "2025-03-24T18:56:18.044Z"
        }
      },
      "outputs": [],
      "execution_count": null
    },
    {
      "cell_type": "code",
      "source": [
        "# Performance\n",
        "recall = recall_score(y_test, y_pred_labels, average= 'weighted')\n",
        "precision = precision_score(y_test, y_pred_labels, average= 'weighted')\n",
        "f1 = f1_score(y_test, y_pred_labels, average= 'weighted')\n",
        "accuracy = accuracy_score(y_test, y_pred_labels)\n",
        "\n",
        "# Calculating the True Skill Score (TSS) for every class\n",
        "\n",
        "# We need the confusion matrix for this\n",
        "cm = confusion_matrix(y_test, y_pred_labels)\n",
        "\n",
        "tss_per_class = {}\n",
        "\n",
        "for i, class_name in enumerate(class_names):\n",
        "    tp = cm[i, i]  # True Positives for class i\n",
        "    fn = np.sum(cm[i, :]) - tp  # False Negatives: Sum of row minus TP\n",
        "    fp = np.sum(cm[:, i]) - tp  # False Positives: Sum of column minus TP\n",
        "    tn = np.sum(cm) - (tp + fn + fp)  # True Negatives: All other elements\n",
        "\n",
        "    tss = (tp / (tp + fn)) - (fp / (fp + tn))  # True Skill Score for class i\n",
        "    tss_per_class[class_name] = tss\n",
        "\n",
        "    print(\"TSS for\", f\"'{class_name}'\", \"class:\", tss_per_class[class_name])"
      ],
      "metadata": {
        "id": "_KgHP9Ay4NUb",
        "trusted": true,
        "execution": {
          "execution_failed": "2025-03-24T18:56:18.044Z"
        }
      },
      "outputs": [],
      "execution_count": null
    },
    {
      "cell_type": "code",
      "source": [
        "print(\"Recall:\", recall)\n",
        "print(\"Precision:\", precision)\n",
        "print(\"F1_score:\", f1)\n",
        "print(\"Accuracy:\", accuracy)"
      ],
      "metadata": {
        "id": "khOK8LBq4Pn7",
        "trusted": true,
        "execution": {
          "execution_failed": "2025-03-24T18:56:18.044Z"
        }
      },
      "outputs": [],
      "execution_count": null
    },
    {
      "cell_type": "markdown",
      "source": [
        "### **Model V: VGG16 + Vision Transformer + Original Images**"
      ],
      "metadata": {
        "id": "Vy6D_IQPtZEB"
      }
    },
    {
      "cell_type": "code",
      "source": [
        "# Splitting into train and test sets\n",
        "X_train, X_test, y_train, y_test, train_indices, test_indices = train_test_split(all_data, all_labels, np.arange(len(all_labels)),\n",
        "                                                                                 test_size=0.25, shuffle=True, random_state=50)\n",
        "\n",
        "y_train_encoded = to_categorical(y_train, num_classes=3)"
      ],
      "metadata": {
        "id": "4lxZvSGTtbLd",
        "trusted": true,
        "execution": {
          "execution_failed": "2025-03-24T18:56:18.045Z"
        }
      },
      "outputs": [],
      "execution_count": null
    },
    {
      "cell_type": "code",
      "source": [
        "# Transformer for training data\n",
        "transformed_X_train=[]\n",
        "for i in range(len(X_train)):\n",
        "  transformed_train_images = train_transform(X_train[i])\n",
        "  new_image = np.transpose(transformed_train_images, (1, 2, 0))\n",
        "  transformed_X_train.append(new_image)\n",
        "\n",
        "# Transformer for testing data\n",
        "transformed_X_test=[]\n",
        "for j in range(len(X_test)):\n",
        "  transformed_test_images = test_transform(X_test[j])\n",
        "  new_images = np.transpose(transformed_test_images, (1, 2, 0))\n",
        "  transformed_X_test.append(new_images)"
      ],
      "metadata": {
        "id": "oK4oWzU54WAL",
        "trusted": true,
        "execution": {
          "execution_failed": "2025-03-24T18:56:18.045Z"
        }
      },
      "outputs": [],
      "execution_count": null
    },
    {
      "cell_type": "code",
      "source": [
        "# Defining the class weights to account for class imbalance\n",
        "class_weights = {0: len(all_data) / (3*len(sp_img)), 1: len(all_data) / (3*len(el_img)), 2: len(all_data) / (3*len(odd_img))}"
      ],
      "metadata": {
        "id": "4wAvBd_x4bpH",
        "trusted": true,
        "execution": {
          "execution_failed": "2025-03-24T18:56:18.045Z"
        }
      },
      "outputs": [],
      "execution_count": null
    },
    {
      "cell_type": "code",
      "source": [
        "# Defining the pretrained VGG16\n",
        "base_model = ResNet50(weights='imagenet', include_top=False, input_shape=(image_size, image_size, 3))\n",
        "\n",
        "x = Flatten()(base_model.output)\n",
        "x = Dense(64, activation='relu')(x)  # The custom layers\n",
        "output = Dense(3, activation='softmax')(x)\n",
        "\n",
        "model = Model(inputs=base_model.input, outputs=output)\n",
        "\n",
        "model.compile(loss='categorical_crossentropy', optimizer='adam', metrics=['accuracy'])"
      ],
      "metadata": {
        "id": "9fNQu7SQ4eBt",
        "trusted": true,
        "execution": {
          "execution_failed": "2025-03-24T18:56:18.046Z"
        }
      },
      "outputs": [],
      "execution_count": null
    },
    {
      "cell_type": "code",
      "source": [
        "# Training the model\n",
        "es = EarlyStopping(monitor='val_loss', mode='min', verbose=1, patience=10)\n",
        "\n",
        "history = model.fit(\n",
        "np.array(transformed_X_train), y_train_encoded,\n",
        "batch_size=b_size,\n",
        "epochs=e_num,\n",
        "verbose = 1,\n",
        "callbacks=es,\n",
        "class_weight=class_weights,\n",
        "validation_split=0.1\n",
        ")"
      ],
      "metadata": {
        "id": "JwjnsoGe4nds",
        "trusted": true,
        "execution": {
          "execution_failed": "2025-03-24T18:56:18.046Z"
        }
      },
      "outputs": [],
      "execution_count": null
    },
    {
      "cell_type": "code",
      "source": [
        "# Making predictions on unseen data (test set)\n",
        "y_pred = model.predict(np.array(transformed_X_test))\n",
        "y_pred_labels = np.argmax(y_pred, axis=1)"
      ],
      "metadata": {
        "id": "7-ArH7-M4sAu",
        "trusted": true,
        "execution": {
          "execution_failed": "2025-03-24T18:56:18.047Z"
        }
      },
      "outputs": [],
      "execution_count": null
    },
    {
      "cell_type": "code",
      "source": [
        "# Confusion matrix\n",
        "classes = ['Spiral', 'Elliptical', 'Odd Objects']\n",
        "plotting.plot_confusion_matrix(np.array(y_test), np.array(y_pred_labels), classes=classes, cmap=plt.cm.Purples, normalize=False, x_tick_rot=0)\n",
        "plt.savefig('CM_final5')"
      ],
      "metadata": {
        "id": "RKjeoDKV4toF",
        "trusted": true,
        "execution": {
          "execution_failed": "2025-03-24T18:56:18.047Z"
        }
      },
      "outputs": [],
      "execution_count": null
    },
    {
      "cell_type": "code",
      "source": [
        "# Plotting ROC curve\n",
        "\n",
        "y_score = y_pred  # Use predicted probabilities for ROC curve\n",
        "y_test_bin = label_binarize(y_test, classes=list(range(3)))  # Binarize the true labels\n",
        "\n",
        "fpr = dict()\n",
        "tpr = dict()\n",
        "roc_auc = dict()\n",
        "\n",
        "for i in range(3):\n",
        "    fpr[i], tpr[i], _ = roc_curve(y_test_bin[:, i], y_score[:, i])\n",
        "    roc_auc[i] = auc(fpr[i], tpr[i])\n",
        "\n",
        "class_names = ['Spiral', 'Elliptical', 'Odd objects']\n",
        "\n",
        "fig, ax = plt.subplots(figsize=(10, 8))\n",
        "\n",
        "mean_fpr = np.linspace(-float(1e-6), 1, int(1e7))\n",
        "\n",
        "\n",
        "# Save ROC curves\n",
        "model_v_roc_curves = []\n",
        "\n",
        "# Plotting the ROC curve for each class\n",
        "for i in range(3):  # Iterate through each class\n",
        "    tprs_interp = []\n",
        "    for j in range(len(fpr)):\n",
        "        tprs_interp.append(np.interp(mean_fpr, fpr[i], tpr[i]))\n",
        "\n",
        "    mean_tpr = np.mean(tprs_interp, axis=0)\n",
        "    mean_auc = np.trapz(mean_tpr, mean_fpr)\n",
        "\n",
        "    # Save curves to list\n",
        "    model_v_roc_curves.append((mean_fpr, mean_tpr, mean_auc))\n",
        "\n",
        "    ax.plot(mean_fpr, mean_tpr, label=f'{class_names[i]} (AUC = {mean_auc:.3f})', lw=2)\n",
        "\n",
        "ax.plot([0, 1], [0, 1], linestyle='--', color='black', label='Random Guess')\n",
        "ax.set_xlabel('False Positive Rate')\n",
        "ax.set_ylabel('True Positive Rate')\n",
        "ax.set_title(f'Receiver Operating Characteristic (ROC) Curve')\n",
        "ax.legend(loc='lower right')\n",
        "\n",
        "plt.tight_layout()\n",
        "plt.show()"
      ],
      "metadata": {
        "id": "P53QZJwWRDup",
        "trusted": true,
        "execution": {
          "execution_failed": "2025-03-24T18:56:18.047Z"
        }
      },
      "outputs": [],
      "execution_count": null
    },
    {
      "cell_type": "code",
      "source": [
        "# Save the ROC curves of this model to the roc_curves dictionary\n",
        "roc_curves['Model V'] = model_v_roc_curves"
      ],
      "metadata": {
        "id": "uA7raGkKWZYN",
        "trusted": true,
        "execution": {
          "execution_failed": "2025-03-24T18:56:18.047Z"
        }
      },
      "outputs": [],
      "execution_count": null
    },
    {
      "cell_type": "code",
      "source": [
        "# Performance\n",
        "recall = recall_score(y_test, y_pred_labels, average= 'weighted')\n",
        "precision = precision_score(y_test, y_pred_labels, average= 'weighted')\n",
        "f1 = f1_score(y_test, y_pred_labels, average= 'weighted')\n",
        "accuracy = accuracy_score(y_test, y_pred_labels)\n",
        "\n",
        "# Calculating the True Skill Score (TSS) for every class\n",
        "\n",
        "# We need the confusion matrix for this\n",
        "cm = confusion_matrix(y_test, y_pred_labels)\n",
        "\n",
        "tss_per_class = {}\n",
        "\n",
        "for i, class_name in enumerate(class_names):\n",
        "    tp = cm[i, i]  # True Positives for class i\n",
        "    fn = np.sum(cm[i, :]) - tp  # False Negatives: Sum of row minus TP\n",
        "    fp = np.sum(cm[:, i]) - tp  # False Positives: Sum of column minus TP\n",
        "    tn = np.sum(cm) - (tp + fn + fp)  # True Negatives: All other elements\n",
        "\n",
        "    tss = (tp / (tp + fn)) - (fp / (fp + tn))  # True Skill Score for class i\n",
        "    tss_per_class[class_name] = tss\n",
        "\n",
        "    print(\"TSS for\", f\"'{class_name}'\", \"class:\", tss_per_class[class_name])"
      ],
      "metadata": {
        "id": "UVKdNA9b4z32",
        "trusted": true,
        "execution": {
          "execution_failed": "2025-03-24T18:56:18.048Z"
        }
      },
      "outputs": [],
      "execution_count": null
    },
    {
      "cell_type": "code",
      "source": [
        "print(\"Recall:\", recall)\n",
        "print(\"Precision:\", precision)\n",
        "print(\"F1_score:\", f1)\n",
        "print(\"Accuracy:\", accuracy)"
      ],
      "metadata": {
        "id": "NwV6azGD413G",
        "trusted": true,
        "execution": {
          "execution_failed": "2025-03-24T18:56:18.048Z"
        }
      },
      "outputs": [],
      "execution_count": null
    },
    {
      "cell_type": "markdown",
      "source": [
        "## **Model Comparisons**"
      ],
      "metadata": {
        "id": "fcf4E9UdSsCA"
      }
    },
    {
      "cell_type": "code",
      "source": [
        "# ROC Curves for Spiral Galaxy\n",
        "fig, ax = plt.subplots(1, 3, figsize=(16, 6), dpi=100)\n",
        "\n",
        "# Iterate over classes\n",
        "classes = ['Spiral', 'Elliptical', 'Odd Objects']\n",
        "for i, class_name in enumerate(classes):\n",
        "\n",
        "  # Iterate over models\n",
        "  for model_name in roc_curves:\n",
        "\n",
        "    # Get the i-th class ROC curves of the current model\n",
        "    class_roc_curves = roc_curves[model_name][i]\n",
        "\n",
        "    # ROC curve data of i-th class by the current model\n",
        "    mean_fpr = class_roc_curves[0]\n",
        "    mean_tpr = class_roc_curves[1]\n",
        "    mean_auc = class_roc_curves[2]\n",
        "\n",
        "    ax[i].plot(mean_fpr, mean_tpr, label=f'{model_name} (AUC = {mean_auc:.3f})', lw=1)\n",
        "\n",
        "  ax[i].plot([0, 1], [0, 1], linestyle='--', color='black', label='Random Guess')\n",
        "\n",
        "  ax[i].set_title('ROC Curve - ' + f'{class_name}', fontsize=14)\n",
        "  ax[i].legend(loc='lower right', fontsize=14)\n",
        "  ax[i].set_xlabel('False Positive Rate', fontsize=14)\n",
        "  ax[i].set_ylabel('True Positive Rate', fontsize=14)\n",
        "  ax[i].tick_params(axis='both', which='major', labelsize=12)\n",
        "\n",
        "plt.tight_layout()\n",
        "plt.savefig('clean_final_1')\n",
        "plt.show()"
      ],
      "metadata": {
        "id": "w8aeqy8UWu_Y",
        "trusted": true,
        "execution": {
          "execution_failed": "2025-03-24T18:56:18.049Z"
        }
      },
      "outputs": [],
      "execution_count": null
    }
  ]
}